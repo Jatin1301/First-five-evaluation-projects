{
 "cells": [
  {
   "cell_type": "code",
   "execution_count": 83,
   "metadata": {},
   "outputs": [],
   "source": [
    "import pandas as pd\n",
    "import numpy as np\n",
    "import warnings\n",
    "warnings.filterwarnings(\"ignore\")"
   ]
  },
  {
   "cell_type": "code",
   "execution_count": 84,
   "metadata": {},
   "outputs": [],
   "source": [
    "#Loading the dataset\n",
    "df=pd.read_csv(\"avocado.csv\",parse_dates=[\"Date\"])"
   ]
  },
  {
   "cell_type": "code",
   "execution_count": 85,
   "metadata": {},
   "outputs": [
    {
     "data": {
      "text/html": [
       "<div>\n",
       "<style scoped>\n",
       "    .dataframe tbody tr th:only-of-type {\n",
       "        vertical-align: middle;\n",
       "    }\n",
       "\n",
       "    .dataframe tbody tr th {\n",
       "        vertical-align: top;\n",
       "    }\n",
       "\n",
       "    .dataframe thead th {\n",
       "        text-align: right;\n",
       "    }\n",
       "</style>\n",
       "<table border=\"1\" class=\"dataframe\">\n",
       "  <thead>\n",
       "    <tr style=\"text-align: right;\">\n",
       "      <th></th>\n",
       "      <th>Unnamed: 0</th>\n",
       "      <th>Date</th>\n",
       "      <th>AveragePrice</th>\n",
       "      <th>Total Volume</th>\n",
       "      <th>4046</th>\n",
       "      <th>4225</th>\n",
       "      <th>4770</th>\n",
       "      <th>Total Bags</th>\n",
       "      <th>Small Bags</th>\n",
       "      <th>Large Bags</th>\n",
       "      <th>XLarge Bags</th>\n",
       "      <th>type</th>\n",
       "      <th>year</th>\n",
       "      <th>region</th>\n",
       "    </tr>\n",
       "  </thead>\n",
       "  <tbody>\n",
       "    <tr>\n",
       "      <th>0</th>\n",
       "      <td>0</td>\n",
       "      <td>2015-12-27</td>\n",
       "      <td>1.33</td>\n",
       "      <td>64236.62</td>\n",
       "      <td>1036.74</td>\n",
       "      <td>54454.85</td>\n",
       "      <td>48.16</td>\n",
       "      <td>8696.87</td>\n",
       "      <td>8603.62</td>\n",
       "      <td>93.25</td>\n",
       "      <td>0.00</td>\n",
       "      <td>conventional</td>\n",
       "      <td>2015</td>\n",
       "      <td>Albany</td>\n",
       "    </tr>\n",
       "    <tr>\n",
       "      <th>1</th>\n",
       "      <td>1</td>\n",
       "      <td>2015-12-20</td>\n",
       "      <td>1.35</td>\n",
       "      <td>54876.98</td>\n",
       "      <td>674.28</td>\n",
       "      <td>44638.81</td>\n",
       "      <td>58.33</td>\n",
       "      <td>9505.56</td>\n",
       "      <td>9408.07</td>\n",
       "      <td>97.49</td>\n",
       "      <td>0.00</td>\n",
       "      <td>conventional</td>\n",
       "      <td>2015</td>\n",
       "      <td>Albany</td>\n",
       "    </tr>\n",
       "    <tr>\n",
       "      <th>2</th>\n",
       "      <td>2</td>\n",
       "      <td>2015-12-13</td>\n",
       "      <td>0.93</td>\n",
       "      <td>118220.22</td>\n",
       "      <td>794.70</td>\n",
       "      <td>109149.67</td>\n",
       "      <td>130.50</td>\n",
       "      <td>8145.35</td>\n",
       "      <td>8042.21</td>\n",
       "      <td>103.14</td>\n",
       "      <td>0.00</td>\n",
       "      <td>conventional</td>\n",
       "      <td>2015</td>\n",
       "      <td>Albany</td>\n",
       "    </tr>\n",
       "    <tr>\n",
       "      <th>3</th>\n",
       "      <td>3</td>\n",
       "      <td>2015-06-12</td>\n",
       "      <td>1.08</td>\n",
       "      <td>78992.15</td>\n",
       "      <td>1132.00</td>\n",
       "      <td>71976.41</td>\n",
       "      <td>72.58</td>\n",
       "      <td>5811.16</td>\n",
       "      <td>5677.40</td>\n",
       "      <td>133.76</td>\n",
       "      <td>0.00</td>\n",
       "      <td>conventional</td>\n",
       "      <td>2015</td>\n",
       "      <td>Albany</td>\n",
       "    </tr>\n",
       "    <tr>\n",
       "      <th>4</th>\n",
       "      <td>4</td>\n",
       "      <td>2015-11-29</td>\n",
       "      <td>1.28</td>\n",
       "      <td>51039.60</td>\n",
       "      <td>941.48</td>\n",
       "      <td>43838.39</td>\n",
       "      <td>75.78</td>\n",
       "      <td>6183.95</td>\n",
       "      <td>5986.26</td>\n",
       "      <td>197.69</td>\n",
       "      <td>0.00</td>\n",
       "      <td>conventional</td>\n",
       "      <td>2015</td>\n",
       "      <td>Albany</td>\n",
       "    </tr>\n",
       "    <tr>\n",
       "      <th>...</th>\n",
       "      <td>...</td>\n",
       "      <td>...</td>\n",
       "      <td>...</td>\n",
       "      <td>...</td>\n",
       "      <td>...</td>\n",
       "      <td>...</td>\n",
       "      <td>...</td>\n",
       "      <td>...</td>\n",
       "      <td>...</td>\n",
       "      <td>...</td>\n",
       "      <td>...</td>\n",
       "      <td>...</td>\n",
       "      <td>...</td>\n",
       "      <td>...</td>\n",
       "    </tr>\n",
       "    <tr>\n",
       "      <th>1512</th>\n",
       "      <td>10</td>\n",
       "      <td>2016-10-16</td>\n",
       "      <td>1.39</td>\n",
       "      <td>190846.01</td>\n",
       "      <td>57529.11</td>\n",
       "      <td>56366.66</td>\n",
       "      <td>17531.78</td>\n",
       "      <td>59418.46</td>\n",
       "      <td>48823.53</td>\n",
       "      <td>10354.65</td>\n",
       "      <td>240.28</td>\n",
       "      <td>conventional</td>\n",
       "      <td>2016</td>\n",
       "      <td>Charlotte</td>\n",
       "    </tr>\n",
       "    <tr>\n",
       "      <th>1513</th>\n",
       "      <td>11</td>\n",
       "      <td>2016-09-10</td>\n",
       "      <td>1.51</td>\n",
       "      <td>178235.75</td>\n",
       "      <td>43325.87</td>\n",
       "      <td>52189.61</td>\n",
       "      <td>19419.57</td>\n",
       "      <td>63300.70</td>\n",
       "      <td>54704.14</td>\n",
       "      <td>8596.56</td>\n",
       "      <td>0.00</td>\n",
       "      <td>conventional</td>\n",
       "      <td>2016</td>\n",
       "      <td>Charlotte</td>\n",
       "    </tr>\n",
       "    <tr>\n",
       "      <th>1514</th>\n",
       "      <td>12</td>\n",
       "      <td>2016-02-10</td>\n",
       "      <td>1.48</td>\n",
       "      <td>178410.82</td>\n",
       "      <td>46364.75</td>\n",
       "      <td>52893.38</td>\n",
       "      <td>16736.92</td>\n",
       "      <td>62415.77</td>\n",
       "      <td>53332.61</td>\n",
       "      <td>8258.16</td>\n",
       "      <td>825.00</td>\n",
       "      <td>conventional</td>\n",
       "      <td>2016</td>\n",
       "      <td>Charlotte</td>\n",
       "    </tr>\n",
       "    <tr>\n",
       "      <th>1515</th>\n",
       "      <td>13</td>\n",
       "      <td>2016-09-25</td>\n",
       "      <td>1.47</td>\n",
       "      <td>189131.52</td>\n",
       "      <td>54110.79</td>\n",
       "      <td>53593.58</td>\n",
       "      <td>17495.42</td>\n",
       "      <td>63931.73</td>\n",
       "      <td>55653.47</td>\n",
       "      <td>8278.26</td>\n",
       "      <td>0.00</td>\n",
       "      <td>conventional</td>\n",
       "      <td>2016</td>\n",
       "      <td>Charlotte</td>\n",
       "    </tr>\n",
       "    <tr>\n",
       "      <th>1516</th>\n",
       "      <td>14</td>\n",
       "      <td>2016-09-18</td>\n",
       "      <td>1.43</td>\n",
       "      <td>182978.30</td>\n",
       "      <td>43116.41</td>\n",
       "      <td>54193.42</td>\n",
       "      <td>16563.91</td>\n",
       "      <td>69104.56</td>\n",
       "      <td>57456.21</td>\n",
       "      <td>11648.35</td>\n",
       "      <td>0.00</td>\n",
       "      <td>conventional</td>\n",
       "      <td>2016</td>\n",
       "      <td>Charlotte</td>\n",
       "    </tr>\n",
       "  </tbody>\n",
       "</table>\n",
       "<p>1517 rows × 14 columns</p>\n",
       "</div>"
      ],
      "text/plain": [
       "      Unnamed: 0       Date  AveragePrice  Total Volume      4046       4225  \\\n",
       "0              0 2015-12-27          1.33      64236.62   1036.74   54454.85   \n",
       "1              1 2015-12-20          1.35      54876.98    674.28   44638.81   \n",
       "2              2 2015-12-13          0.93     118220.22    794.70  109149.67   \n",
       "3              3 2015-06-12          1.08      78992.15   1132.00   71976.41   \n",
       "4              4 2015-11-29          1.28      51039.60    941.48   43838.39   \n",
       "...          ...        ...           ...           ...       ...        ...   \n",
       "1512          10 2016-10-16          1.39     190846.01  57529.11   56366.66   \n",
       "1513          11 2016-09-10          1.51     178235.75  43325.87   52189.61   \n",
       "1514          12 2016-02-10          1.48     178410.82  46364.75   52893.38   \n",
       "1515          13 2016-09-25          1.47     189131.52  54110.79   53593.58   \n",
       "1516          14 2016-09-18          1.43     182978.30  43116.41   54193.42   \n",
       "\n",
       "          4770  Total Bags  Small Bags  Large Bags  XLarge Bags          type  \\\n",
       "0        48.16     8696.87     8603.62       93.25         0.00  conventional   \n",
       "1        58.33     9505.56     9408.07       97.49         0.00  conventional   \n",
       "2       130.50     8145.35     8042.21      103.14         0.00  conventional   \n",
       "3        72.58     5811.16     5677.40      133.76         0.00  conventional   \n",
       "4        75.78     6183.95     5986.26      197.69         0.00  conventional   \n",
       "...        ...         ...         ...         ...          ...           ...   \n",
       "1512  17531.78    59418.46    48823.53    10354.65       240.28  conventional   \n",
       "1513  19419.57    63300.70    54704.14     8596.56         0.00  conventional   \n",
       "1514  16736.92    62415.77    53332.61     8258.16       825.00  conventional   \n",
       "1515  17495.42    63931.73    55653.47     8278.26         0.00  conventional   \n",
       "1516  16563.91    69104.56    57456.21    11648.35         0.00  conventional   \n",
       "\n",
       "      year     region  \n",
       "0     2015     Albany  \n",
       "1     2015     Albany  \n",
       "2     2015     Albany  \n",
       "3     2015     Albany  \n",
       "4     2015     Albany  \n",
       "...    ...        ...  \n",
       "1512  2016  Charlotte  \n",
       "1513  2016  Charlotte  \n",
       "1514  2016  Charlotte  \n",
       "1515  2016  Charlotte  \n",
       "1516  2016  Charlotte  \n",
       "\n",
       "[1517 rows x 14 columns]"
      ]
     },
     "execution_count": 85,
     "metadata": {},
     "output_type": "execute_result"
    }
   ],
   "source": [
    "df"
   ]
  },
  {
   "cell_type": "code",
   "execution_count": 86,
   "metadata": {},
   "outputs": [
    {
     "data": {
      "text/plain": [
       "Unnamed: 0               int64\n",
       "Date            datetime64[ns]\n",
       "AveragePrice           float64\n",
       "Total Volume           float64\n",
       "4046                   float64\n",
       "4225                   float64\n",
       "4770                   float64\n",
       "Total Bags             float64\n",
       "Small Bags             float64\n",
       "Large Bags             float64\n",
       "XLarge Bags            float64\n",
       "type                    object\n",
       "year                     int64\n",
       "region                  object\n",
       "dtype: object"
      ]
     },
     "execution_count": 86,
     "metadata": {},
     "output_type": "execute_result"
    }
   ],
   "source": [
    "#data types\n",
    "df.dtypes"
   ]
  },
  {
   "cell_type": "code",
   "execution_count": 87,
   "metadata": {},
   "outputs": [
    {
     "data": {
      "text/plain": [
       "(1517, 14)"
      ]
     },
     "execution_count": 87,
     "metadata": {},
     "output_type": "execute_result"
    }
   ],
   "source": [
    "#shape of the data\n",
    "df.shape"
   ]
  },
  {
   "cell_type": "code",
   "execution_count": 88,
   "metadata": {},
   "outputs": [
    {
     "data": {
      "text/plain": [
       "Index(['Unnamed: 0', 'Date', 'AveragePrice', 'Total Volume', '4046', '4225',\n",
       "       '4770', 'Total Bags', 'Small Bags', 'Large Bags', 'XLarge Bags', 'type',\n",
       "       'year', 'region'],\n",
       "      dtype='object')"
      ]
     },
     "execution_count": 88,
     "metadata": {},
     "output_type": "execute_result"
    }
   ],
   "source": [
    "#columns in the dataset\n",
    "df.columns"
   ]
  },
  {
   "cell_type": "code",
   "execution_count": 89,
   "metadata": {},
   "outputs": [
    {
     "name": "stdout",
     "output_type": "stream",
     "text": [
      "<class 'pandas.core.frame.DataFrame'>\n",
      "RangeIndex: 1517 entries, 0 to 1516\n",
      "Data columns (total 14 columns):\n",
      " #   Column        Non-Null Count  Dtype         \n",
      "---  ------        --------------  -----         \n",
      " 0   Unnamed: 0    1517 non-null   int64         \n",
      " 1   Date          1517 non-null   datetime64[ns]\n",
      " 2   AveragePrice  1517 non-null   float64       \n",
      " 3   Total Volume  1517 non-null   float64       \n",
      " 4   4046          1517 non-null   float64       \n",
      " 5   4225          1517 non-null   float64       \n",
      " 6   4770          1517 non-null   float64       \n",
      " 7   Total Bags    1517 non-null   float64       \n",
      " 8   Small Bags    1517 non-null   float64       \n",
      " 9   Large Bags    1517 non-null   float64       \n",
      " 10  XLarge Bags   1517 non-null   float64       \n",
      " 11  type          1517 non-null   object        \n",
      " 12  year          1517 non-null   int64         \n",
      " 13  region        1517 non-null   object        \n",
      "dtypes: datetime64[ns](1), float64(9), int64(2), object(2)\n",
      "memory usage: 166.0+ KB\n"
     ]
    }
   ],
   "source": [
    "df.info()"
   ]
  },
  {
   "cell_type": "code",
   "execution_count": 90,
   "metadata": {},
   "outputs": [
    {
     "name": "stdout",
     "output_type": "stream",
     "text": [
      "['conventional']\n",
      "\n",
      "\n",
      "conventional    1517\n",
      "Name: type, dtype: int64\n"
     ]
    }
   ],
   "source": [
    "# types of avocado in the dataset\n",
    "print(df[\"type\"].unique())\n",
    "print(\"\\n\")\n",
    "print(df.type.value_counts())"
   ]
  },
  {
   "cell_type": "code",
   "execution_count": 91,
   "metadata": {},
   "outputs": [
    {
     "data": {
      "text/plain": [
       "array(['Albany', 'Atlanta', 'BaltimoreWashington', 'Boise', 'Boston',\n",
       "       'BuffaloRochester', 'California', 'Charlotte', 'Chicago',\n",
       "       'Columbus', 'DallasFtWorth', 'Denver', 'Detroit', 'GrandRapids',\n",
       "       'GreatLakes', 'HarrisburgScranton', 'HartfordSpringfield',\n",
       "       'Houston', 'Indianapolis', 'Jacksonville', 'LasVegas',\n",
       "       'LosAngeles', 'Louisville', 'MiamiFtLauderdale', 'Midsouth',\n",
       "       'Nashville', 'NewYork', 'Northeast', 'NorthernNewEngland',\n",
       "       'Orlando', 'Philadelphia', 'PhoenixTucson', 'Pittsburgh', 'Plains',\n",
       "       'Portland', 'RaleighGreensboro', 'RichmondNorfolk', 'Roanoke',\n",
       "       'SanDiego', 'SanFrancisco', 'Seattle', 'SouthCarolina',\n",
       "       'SouthCentral', 'Southeast', 'Spokane', 'StLouis', 'Syracuse',\n",
       "       'Tampa', 'TotalUS', 'West', 'WestTexNewMexico'], dtype=object)"
      ]
     },
     "execution_count": 91,
     "metadata": {},
     "output_type": "execute_result"
    }
   ],
   "source": [
    "# different regions\n",
    "df[\"region\"].unique()"
   ]
  },
  {
   "cell_type": "code",
   "execution_count": 92,
   "metadata": {},
   "outputs": [
    {
     "data": {
      "text/plain": [
       "California             76\n",
       "Albany                 67\n",
       "BaltimoreWashington    65\n",
       "Boise                  65\n",
       "Boston                 62\n",
       "Atlanta                54\n",
       "PhoenixTucson          52\n",
       "BuffaloRochester       51\n",
       "Spokane                49\n",
       "Columbus               47\n",
       "NewYork                44\n",
       "Jacksonville           41\n",
       "Detroit                40\n",
       "SouthCentral           39\n",
       "SanDiego               38\n",
       "West                   36\n",
       "Tampa                  34\n",
       "Louisville             34\n",
       "Charlotte              31\n",
       "Portland               30\n",
       "Houston                29\n",
       "NorthernNewEngland     29\n",
       "WestTexNewMexico       27\n",
       "TotalUS                25\n",
       "Nashville              25\n",
       "SouthCarolina          24\n",
       "Denver                 24\n",
       "GrandRapids            23\n",
       "Chicago                23\n",
       "Pittsburgh             22\n",
       "Orlando                21\n",
       "RichmondNorfolk        21\n",
       "HarrisburgScranton     19\n",
       "Syracuse               19\n",
       "GreatLakes             18\n",
       "Midsouth               18\n",
       "MiamiFtLauderdale      17\n",
       "Roanoke                17\n",
       "DallasFtWorth          17\n",
       "RaleighGreensboro      16\n",
       "Indianapolis           16\n",
       "StLouis                16\n",
       "SanFrancisco           15\n",
       "HartfordSpringfield    13\n",
       "Philadelphia           13\n",
       "Northeast              12\n",
       "Plains                 12\n",
       "LasVegas               10\n",
       "Seattle                 9\n",
       "Southeast               9\n",
       "LosAngeles              3\n",
       "Name: region, dtype: int64"
      ]
     },
     "execution_count": 92,
     "metadata": {},
     "output_type": "execute_result"
    }
   ],
   "source": [
    "# Count of regions\n",
    "df.region.value_counts()"
   ]
  },
  {
   "cell_type": "code",
   "execution_count": 93,
   "metadata": {},
   "outputs": [
    {
     "data": {
      "text/plain": [
       "Unnamed: 0      0\n",
       "Date            0\n",
       "AveragePrice    0\n",
       "Total Volume    0\n",
       "4046            0\n",
       "4225            0\n",
       "4770            0\n",
       "Total Bags      0\n",
       "Small Bags      0\n",
       "Large Bags      0\n",
       "XLarge Bags     0\n",
       "type            0\n",
       "year            0\n",
       "region          0\n",
       "dtype: int64"
      ]
     },
     "execution_count": 93,
     "metadata": {},
     "output_type": "execute_result"
    }
   ],
   "source": [
    "# checking null values\n",
    "df.isnull().sum()"
   ]
  },
  {
   "cell_type": "code",
   "execution_count": 12,
   "metadata": {},
   "outputs": [],
   "source": [
    "import seaborn as sns\n",
    "import matplotlib.pyplot as plt"
   ]
  },
  {
   "cell_type": "code",
   "execution_count": 13,
   "metadata": {},
   "outputs": [
    {
     "data": {
      "text/plain": [
       "<matplotlib.axes._subplots.AxesSubplot at 0x288d1c9e248>"
      ]
     },
     "execution_count": 13,
     "metadata": {},
     "output_type": "execute_result"
    },
    {
     "data": {
      "image/png": "[encoded data removed]",
      "text/plain": [
       "<Figure size 432x288 with 2 Axes>"
      ]
     },
     "metadata": {
      "needs_background": "light"
     },
     "output_type": "display_data"
    }
   ],
   "source": [
    "# viualizing null values using heat map\n",
    "sns.heatmap(df.isnull())"
   ]
  },
  {
   "cell_type": "markdown",
   "metadata": {},
   "source": [
    "# Summary Statistics"
   ]
  },
  {
   "cell_type": "code",
   "execution_count": 14,
   "metadata": {},
   "outputs": [
    {
     "data": {
      "text/html": [
       "<div>\n",
       "<style scoped>\n",
       "    .dataframe tbody tr th:only-of-type {\n",
       "        vertical-align: middle;\n",
       "    }\n",
       "\n",
       "    .dataframe tbody tr th {\n",
       "        vertical-align: top;\n",
       "    }\n",
       "\n",
       "    .dataframe thead th {\n",
       "        text-align: right;\n",
       "    }\n",
       "</style>\n",
       "<table border=\"1\" class=\"dataframe\">\n",
       "  <thead>\n",
       "    <tr style=\"text-align: right;\">\n",
       "      <th></th>\n",
       "      <th>Unnamed: 0</th>\n",
       "      <th>AveragePrice</th>\n",
       "      <th>Total Volume</th>\n",
       "      <th>4046</th>\n",
       "      <th>4225</th>\n",
       "      <th>4770</th>\n",
       "      <th>Total Bags</th>\n",
       "      <th>Small Bags</th>\n",
       "      <th>Large Bags</th>\n",
       "      <th>XLarge Bags</th>\n",
       "      <th>year</th>\n",
       "    </tr>\n",
       "  </thead>\n",
       "  <tbody>\n",
       "    <tr>\n",
       "      <th>count</th>\n",
       "      <td>1517.000000</td>\n",
       "      <td>1517.000000</td>\n",
       "      <td>1.517000e+03</td>\n",
       "      <td>1.517000e+03</td>\n",
       "      <td>1.517000e+03</td>\n",
       "      <td>1.517000e+03</td>\n",
       "      <td>1.517000e+03</td>\n",
       "      <td>1.517000e+03</td>\n",
       "      <td>1.517000e+03</td>\n",
       "      <td>1517.000000</td>\n",
       "      <td>1517.000000</td>\n",
       "    </tr>\n",
       "    <tr>\n",
       "      <th>mean</th>\n",
       "      <td>26.995386</td>\n",
       "      <td>1.074990</td>\n",
       "      <td>1.601879e+06</td>\n",
       "      <td>6.464387e+05</td>\n",
       "      <td>6.114375e+05</td>\n",
       "      <td>5.040550e+04</td>\n",
       "      <td>2.935974e+05</td>\n",
       "      <td>2.487736e+05</td>\n",
       "      <td>4.264205e+04</td>\n",
       "      <td>2181.771074</td>\n",
       "      <td>2015.162821</td>\n",
       "    </tr>\n",
       "    <tr>\n",
       "      <th>std</th>\n",
       "      <td>14.848287</td>\n",
       "      <td>0.188891</td>\n",
       "      <td>4.433143e+06</td>\n",
       "      <td>1.947614e+06</td>\n",
       "      <td>1.672906e+06</td>\n",
       "      <td>1.377812e+05</td>\n",
       "      <td>7.579765e+05</td>\n",
       "      <td>6.474765e+05</td>\n",
       "      <td>1.182157e+05</td>\n",
       "      <td>7455.712144</td>\n",
       "      <td>0.369324</td>\n",
       "    </tr>\n",
       "    <tr>\n",
       "      <th>min</th>\n",
       "      <td>0.000000</td>\n",
       "      <td>0.490000</td>\n",
       "      <td>3.875074e+04</td>\n",
       "      <td>4.677200e+02</td>\n",
       "      <td>1.783770e+03</td>\n",
       "      <td>0.000000e+00</td>\n",
       "      <td>3.311770e+03</td>\n",
       "      <td>3.311770e+03</td>\n",
       "      <td>0.000000e+00</td>\n",
       "      <td>0.000000</td>\n",
       "      <td>2015.000000</td>\n",
       "    </tr>\n",
       "    <tr>\n",
       "      <th>25%</th>\n",
       "      <td>14.000000</td>\n",
       "      <td>0.980000</td>\n",
       "      <td>1.474700e+05</td>\n",
       "      <td>2.040034e+04</td>\n",
       "      <td>4.147606e+04</td>\n",
       "      <td>9.112500e+02</td>\n",
       "      <td>3.620689e+04</td>\n",
       "      <td>2.972722e+04</td>\n",
       "      <td>5.407400e+02</td>\n",
       "      <td>0.000000</td>\n",
       "      <td>2015.000000</td>\n",
       "    </tr>\n",
       "    <tr>\n",
       "      <th>50%</th>\n",
       "      <td>29.000000</td>\n",
       "      <td>1.080000</td>\n",
       "      <td>4.027919e+05</td>\n",
       "      <td>8.175117e+04</td>\n",
       "      <td>1.186649e+05</td>\n",
       "      <td>7.688170e+03</td>\n",
       "      <td>7.397906e+04</td>\n",
       "      <td>6.237569e+04</td>\n",
       "      <td>5.044350e+03</td>\n",
       "      <td>0.000000</td>\n",
       "      <td>2015.000000</td>\n",
       "    </tr>\n",
       "    <tr>\n",
       "      <th>75%</th>\n",
       "      <td>39.000000</td>\n",
       "      <td>1.190000</td>\n",
       "      <td>9.819751e+05</td>\n",
       "      <td>3.775785e+05</td>\n",
       "      <td>4.851503e+05</td>\n",
       "      <td>2.916730e+04</td>\n",
       "      <td>1.576097e+05</td>\n",
       "      <td>1.461994e+05</td>\n",
       "      <td>2.926767e+04</td>\n",
       "      <td>401.480000</td>\n",
       "      <td>2015.000000</td>\n",
       "    </tr>\n",
       "    <tr>\n",
       "      <th>max</th>\n",
       "      <td>51.000000</td>\n",
       "      <td>1.680000</td>\n",
       "      <td>4.465546e+07</td>\n",
       "      <td>1.893304e+07</td>\n",
       "      <td>1.895648e+07</td>\n",
       "      <td>1.381516e+06</td>\n",
       "      <td>6.736304e+06</td>\n",
       "      <td>5.893642e+06</td>\n",
       "      <td>1.121076e+06</td>\n",
       "      <td>108072.790000</td>\n",
       "      <td>2016.000000</td>\n",
       "    </tr>\n",
       "  </tbody>\n",
       "</table>\n",
       "</div>"
      ],
      "text/plain": [
       "        Unnamed: 0  AveragePrice  Total Volume          4046          4225  \\\n",
       "count  1517.000000   1517.000000  1.517000e+03  1.517000e+03  1.517000e+03   \n",
       "mean     26.995386      1.074990  1.601879e+06  6.464387e+05  6.114375e+05   \n",
       "std      14.848287      0.188891  4.433143e+06  1.947614e+06  1.672906e+06   \n",
       "min       0.000000      0.490000  3.875074e+04  4.677200e+02  1.783770e+03   \n",
       "25%      14.000000      0.980000  1.474700e+05  2.040034e+04  4.147606e+04   \n",
       "50%      29.000000      1.080000  4.027919e+05  8.175117e+04  1.186649e+05   \n",
       "75%      39.000000      1.190000  9.819751e+05  3.775785e+05  4.851503e+05   \n",
       "max      51.000000      1.680000  4.465546e+07  1.893304e+07  1.895648e+07   \n",
       "\n",
       "               4770    Total Bags    Small Bags    Large Bags    XLarge Bags  \\\n",
       "count  1.517000e+03  1.517000e+03  1.517000e+03  1.517000e+03    1517.000000   \n",
       "mean   5.040550e+04  2.935974e+05  2.487736e+05  4.264205e+04    2181.771074   \n",
       "std    1.377812e+05  7.579765e+05  6.474765e+05  1.182157e+05    7455.712144   \n",
       "min    0.000000e+00  3.311770e+03  3.311770e+03  0.000000e+00       0.000000   \n",
       "25%    9.112500e+02  3.620689e+04  2.972722e+04  5.407400e+02       0.000000   \n",
       "50%    7.688170e+03  7.397906e+04  6.237569e+04  5.044350e+03       0.000000   \n",
       "75%    2.916730e+04  1.576097e+05  1.461994e+05  2.926767e+04     401.480000   \n",
       "max    1.381516e+06  6.736304e+06  5.893642e+06  1.121076e+06  108072.790000   \n",
       "\n",
       "              year  \n",
       "count  1517.000000  \n",
       "mean   2015.162821  \n",
       "std       0.369324  \n",
       "min    2015.000000  \n",
       "25%    2015.000000  \n",
       "50%    2015.000000  \n",
       "75%    2015.000000  \n",
       "max    2016.000000  "
      ]
     },
     "execution_count": 14,
     "metadata": {},
     "output_type": "execute_result"
    }
   ],
   "source": [
    "df.describe()"
   ]
  },
  {
   "cell_type": "code",
   "execution_count": 15,
   "metadata": {},
   "outputs": [
    {
     "data": {
      "text/html": [
       "<div>\n",
       "<style scoped>\n",
       "    .dataframe tbody tr th:only-of-type {\n",
       "        vertical-align: middle;\n",
       "    }\n",
       "\n",
       "    .dataframe tbody tr th {\n",
       "        vertical-align: top;\n",
       "    }\n",
       "\n",
       "    .dataframe thead th {\n",
       "        text-align: right;\n",
       "    }\n",
       "</style>\n",
       "<table border=\"1\" class=\"dataframe\">\n",
       "  <thead>\n",
       "    <tr style=\"text-align: right;\">\n",
       "      <th></th>\n",
       "      <th>Unnamed: 0</th>\n",
       "      <th>AveragePrice</th>\n",
       "      <th>Total Volume</th>\n",
       "      <th>4046</th>\n",
       "      <th>4225</th>\n",
       "      <th>4770</th>\n",
       "      <th>Total Bags</th>\n",
       "      <th>Small Bags</th>\n",
       "      <th>Large Bags</th>\n",
       "      <th>XLarge Bags</th>\n",
       "      <th>year</th>\n",
       "    </tr>\n",
       "  </thead>\n",
       "  <tbody>\n",
       "    <tr>\n",
       "      <th>Unnamed: 0</th>\n",
       "      <td>1.000000</td>\n",
       "      <td>-0.075531</td>\n",
       "      <td>0.091934</td>\n",
       "      <td>0.092013</td>\n",
       "      <td>0.093566</td>\n",
       "      <td>0.075647</td>\n",
       "      <td>0.081007</td>\n",
       "      <td>0.083485</td>\n",
       "      <td>0.065364</td>\n",
       "      <td>-0.050993</td>\n",
       "      <td>-0.012854</td>\n",
       "    </tr>\n",
       "    <tr>\n",
       "      <th>AveragePrice</th>\n",
       "      <td>-0.075531</td>\n",
       "      <td>1.000000</td>\n",
       "      <td>-0.140470</td>\n",
       "      <td>-0.190096</td>\n",
       "      <td>-0.092084</td>\n",
       "      <td>-0.100567</td>\n",
       "      <td>-0.111597</td>\n",
       "      <td>-0.097682</td>\n",
       "      <td>-0.177480</td>\n",
       "      <td>-0.048284</td>\n",
       "      <td>0.178683</td>\n",
       "    </tr>\n",
       "    <tr>\n",
       "      <th>Total Volume</th>\n",
       "      <td>0.091934</td>\n",
       "      <td>-0.140470</td>\n",
       "      <td>1.000000</td>\n",
       "      <td>0.985568</td>\n",
       "      <td>0.987154</td>\n",
       "      <td>0.934347</td>\n",
       "      <td>0.967689</td>\n",
       "      <td>0.960642</td>\n",
       "      <td>0.910226</td>\n",
       "      <td>0.521717</td>\n",
       "      <td>-0.004189</td>\n",
       "    </tr>\n",
       "    <tr>\n",
       "      <th>4046</th>\n",
       "      <td>0.092013</td>\n",
       "      <td>-0.190096</td>\n",
       "      <td>0.985568</td>\n",
       "      <td>1.000000</td>\n",
       "      <td>0.951952</td>\n",
       "      <td>0.898570</td>\n",
       "      <td>0.930395</td>\n",
       "      <td>0.922278</td>\n",
       "      <td>0.884229</td>\n",
       "      <td>0.474063</td>\n",
       "      <td>-0.040439</td>\n",
       "    </tr>\n",
       "    <tr>\n",
       "      <th>4225</th>\n",
       "      <td>0.093566</td>\n",
       "      <td>-0.092084</td>\n",
       "      <td>0.987154</td>\n",
       "      <td>0.951952</td>\n",
       "      <td>1.000000</td>\n",
       "      <td>0.927757</td>\n",
       "      <td>0.951779</td>\n",
       "      <td>0.943988</td>\n",
       "      <td>0.900496</td>\n",
       "      <td>0.504718</td>\n",
       "      <td>-0.007254</td>\n",
       "    </tr>\n",
       "    <tr>\n",
       "      <th>4770</th>\n",
       "      <td>0.075647</td>\n",
       "      <td>-0.100567</td>\n",
       "      <td>0.934347</td>\n",
       "      <td>0.898570</td>\n",
       "      <td>0.927757</td>\n",
       "      <td>1.000000</td>\n",
       "      <td>0.926405</td>\n",
       "      <td>0.923607</td>\n",
       "      <td>0.840523</td>\n",
       "      <td>0.646053</td>\n",
       "      <td>0.029222</td>\n",
       "    </tr>\n",
       "    <tr>\n",
       "      <th>Total Bags</th>\n",
       "      <td>0.081007</td>\n",
       "      <td>-0.111597</td>\n",
       "      <td>0.967689</td>\n",
       "      <td>0.930395</td>\n",
       "      <td>0.951779</td>\n",
       "      <td>0.926405</td>\n",
       "      <td>1.000000</td>\n",
       "      <td>0.997341</td>\n",
       "      <td>0.911336</td>\n",
       "      <td>0.601856</td>\n",
       "      <td>0.090108</td>\n",
       "    </tr>\n",
       "    <tr>\n",
       "      <th>Small Bags</th>\n",
       "      <td>0.083485</td>\n",
       "      <td>-0.097682</td>\n",
       "      <td>0.960642</td>\n",
       "      <td>0.922278</td>\n",
       "      <td>0.943988</td>\n",
       "      <td>0.923607</td>\n",
       "      <td>0.997341</td>\n",
       "      <td>1.000000</td>\n",
       "      <td>0.879131</td>\n",
       "      <td>0.611300</td>\n",
       "      <td>0.106382</td>\n",
       "    </tr>\n",
       "    <tr>\n",
       "      <th>Large Bags</th>\n",
       "      <td>0.065364</td>\n",
       "      <td>-0.177480</td>\n",
       "      <td>0.910226</td>\n",
       "      <td>0.884229</td>\n",
       "      <td>0.900496</td>\n",
       "      <td>0.840523</td>\n",
       "      <td>0.911336</td>\n",
       "      <td>0.879131</td>\n",
       "      <td>1.000000</td>\n",
       "      <td>0.447779</td>\n",
       "      <td>-0.018678</td>\n",
       "    </tr>\n",
       "    <tr>\n",
       "      <th>XLarge Bags</th>\n",
       "      <td>-0.050993</td>\n",
       "      <td>-0.048284</td>\n",
       "      <td>0.521717</td>\n",
       "      <td>0.474063</td>\n",
       "      <td>0.504718</td>\n",
       "      <td>0.646053</td>\n",
       "      <td>0.601856</td>\n",
       "      <td>0.611300</td>\n",
       "      <td>0.447779</td>\n",
       "      <td>1.000000</td>\n",
       "      <td>0.218342</td>\n",
       "    </tr>\n",
       "    <tr>\n",
       "      <th>year</th>\n",
       "      <td>-0.012854</td>\n",
       "      <td>0.178683</td>\n",
       "      <td>-0.004189</td>\n",
       "      <td>-0.040439</td>\n",
       "      <td>-0.007254</td>\n",
       "      <td>0.029222</td>\n",
       "      <td>0.090108</td>\n",
       "      <td>0.106382</td>\n",
       "      <td>-0.018678</td>\n",
       "      <td>0.218342</td>\n",
       "      <td>1.000000</td>\n",
       "    </tr>\n",
       "  </tbody>\n",
       "</table>\n",
       "</div>"
      ],
      "text/plain": [
       "              Unnamed: 0  AveragePrice  Total Volume      4046      4225  \\\n",
       "Unnamed: 0      1.000000     -0.075531      0.091934  0.092013  0.093566   \n",
       "AveragePrice   -0.075531      1.000000     -0.140470 -0.190096 -0.092084   \n",
       "Total Volume    0.091934     -0.140470      1.000000  0.985568  0.987154   \n",
       "4046            0.092013     -0.190096      0.985568  1.000000  0.951952   \n",
       "4225            0.093566     -0.092084      0.987154  0.951952  1.000000   \n",
       "4770            0.075647     -0.100567      0.934347  0.898570  0.927757   \n",
       "Total Bags      0.081007     -0.111597      0.967689  0.930395  0.951779   \n",
       "Small Bags      0.083485     -0.097682      0.960642  0.922278  0.943988   \n",
       "Large Bags      0.065364     -0.177480      0.910226  0.884229  0.900496   \n",
       "XLarge Bags    -0.050993     -0.048284      0.521717  0.474063  0.504718   \n",
       "year           -0.012854      0.178683     -0.004189 -0.040439 -0.007254   \n",
       "\n",
       "                  4770  Total Bags  Small Bags  Large Bags  XLarge Bags  \\\n",
       "Unnamed: 0    0.075647    0.081007    0.083485    0.065364    -0.050993   \n",
       "AveragePrice -0.100567   -0.111597   -0.097682   -0.177480    -0.048284   \n",
       "Total Volume  0.934347    0.967689    0.960642    0.910226     0.521717   \n",
       "4046          0.898570    0.930395    0.922278    0.884229     0.474063   \n",
       "4225          0.927757    0.951779    0.943988    0.900496     0.504718   \n",
       "4770          1.000000    0.926405    0.923607    0.840523     0.646053   \n",
       "Total Bags    0.926405    1.000000    0.997341    0.911336     0.601856   \n",
       "Small Bags    0.923607    0.997341    1.000000    0.879131     0.611300   \n",
       "Large Bags    0.840523    0.911336    0.879131    1.000000     0.447779   \n",
       "XLarge Bags   0.646053    0.601856    0.611300    0.447779     1.000000   \n",
       "year          0.029222    0.090108    0.106382   -0.018678     0.218342   \n",
       "\n",
       "                  year  \n",
       "Unnamed: 0   -0.012854  \n",
       "AveragePrice  0.178683  \n",
       "Total Volume -0.004189  \n",
       "4046         -0.040439  \n",
       "4225         -0.007254  \n",
       "4770          0.029222  \n",
       "Total Bags    0.090108  \n",
       "Small Bags    0.106382  \n",
       "Large Bags   -0.018678  \n",
       "XLarge Bags   0.218342  \n",
       "year          1.000000  "
      ]
     },
     "execution_count": 15,
     "metadata": {},
     "output_type": "execute_result"
    }
   ],
   "source": [
    "dfcor=df.corr()\n",
    "\n",
    "dfcor"
   ]
  },
  {
   "cell_type": "code",
   "execution_count": 16,
   "metadata": {},
   "outputs": [
    {
     "data": {
      "text/plain": [
       "<matplotlib.axes._subplots.AxesSubplot at 0x288d27031c8>"
      ]
     },
     "execution_count": 16,
     "metadata": {},
     "output_type": "execute_result"
    },
    {
     "data": {
      "image/png": "[encoded data removed]",
      "text/plain": [
       "<Figure size 720x288 with 2 Axes>"
      ]
     },
     "metadata": {
      "needs_background": "light"
     },
     "output_type": "display_data"
    }
   ],
   "source": [
    "# checking correlation using heatmap\n",
    "plt.figure(figsize=(10,4))\n",
    "sns.heatmap(dfcor,annot=True)"
   ]
  },
  {
   "cell_type": "code",
   "execution_count": 17,
   "metadata": {},
   "outputs": [
    {
     "data": {
      "text/plain": [
       "<matplotlib.axes._subplots.AxesSubplot at 0x288d2803c48>"
      ]
     },
     "execution_count": 17,
     "metadata": {},
     "output_type": "execute_result"
    },
    {
     "data": {
      "image/png": "[encoded data removed]",
      "text/plain": [
       "<Figure size 432x288 with 2 Axes>"
      ]
     },
     "metadata": {
      "needs_background": "light"
     },
     "output_type": "display_data"
    }
   ],
   "source": [
    "sns.heatmap(dfcor,cmap=\"Blues\",annot=True)"
   ]
  },
  {
   "cell_type": "code",
   "execution_count": 18,
   "metadata": {},
   "outputs": [
    {
     "data": {
      "text/plain": [
       "<matplotlib.axes._subplots.AxesSubplot at 0x288d2710288>"
      ]
     },
     "execution_count": 18,
     "metadata": {},
     "output_type": "execute_result"
    },
    {
     "data": {
      "image/png": "[encoded data removed]",
      "text/plain": [
       "<Figure size 360x360 with 1 Axes>"
      ]
     },
     "metadata": {
      "needs_background": "light"
     },
     "output_type": "display_data"
    }
   ],
   "source": [
    "# below graph shows that Average Price is normally distributed\n",
    "plt.figure(figsize=(5,5))\n",
    "\n",
    "sns.distplot(df['AveragePrice'])"
   ]
  },
  {
   "cell_type": "code",
   "execution_count": 19,
   "metadata": {},
   "outputs": [
    {
     "data": {
      "text/plain": [
       "Text(0.5, 1.0, 'Average Price')"
      ]
     },
     "execution_count": 19,
     "metadata": {},
     "output_type": "execute_result"
    },
    {
     "data": {
      "image/png": "[encoded data removed]",
      "text/plain": [
       "<Figure size 432x288 with 1 Axes>"
      ]
     },
     "metadata": {
      "needs_background": "light"
     },
     "output_type": "display_data"
    }
   ],
   "source": [
    "# below graph shows variation in Average price  with date\n",
    "byDate=df.groupby('Date').mean()\n",
    "plt.figure(figsize=(6,4))\n",
    "byDate['AveragePrice'].plot()\n",
    "plt.title('Average Price')"
   ]
  },
  {
   "cell_type": "code",
   "execution_count": 20,
   "metadata": {},
   "outputs": [
    {
     "data": {
      "text/plain": [
       "<matplotlib.axes._subplots.AxesSubplot at 0x288d2c5db88>"
      ]
     },
     "execution_count": 20,
     "metadata": {},
     "output_type": "execute_result"
    },
    {
     "data": {
      "image/png": "[encoded data removed]",
      "text/plain": [
       "<Figure size 576x288 with 1 Axes>"
      ]
     },
     "metadata": {
      "needs_background": "light"
     },
     "output_type": "display_data"
    }
   ],
   "source": [
    "fig, ax = plt.subplots(1, 1, figsize=(8,4))\n",
    "sns.boxplot(x='year',y='AveragePrice',data=df,color='red')"
   ]
  },
  {
   "cell_type": "markdown",
   "metadata": {},
   "source": [
    "* Average Price distribution shows that for most cases price of avocado is between 1.1, 1.4"
   ]
  },
  {
   "cell_type": "code",
   "execution_count": 21,
   "metadata": {},
   "outputs": [
    {
     "data": {
      "text/plain": [
       "<matplotlib.axes._subplots.AxesSubplot at 0x288d2cd5248>"
      ]
     },
     "execution_count": 21,
     "metadata": {},
     "output_type": "execute_result"
    },
    {
     "data": {
      "image/png": "[encoded data removed]",
      "text/plain": [
       "<Figure size 432x288 with 1 Axes>"
      ]
     },
     "metadata": {
      "needs_background": "light"
     },
     "output_type": "display_data"
    }
   ],
   "source": [
    "sns.boxplot(df[\"AveragePrice\"])"
   ]
  },
  {
   "cell_type": "markdown",
   "metadata": {},
   "source": [
    "* We can see that the average price fluctuates around 1.00 and 2.00. Looking into our summary we can see that the mean price is around 1.41."
   ]
  },
  {
   "cell_type": "markdown",
   "metadata": {},
   "source": [
    "* We can see a cluster of outliers present after the price of 2.5. We can get rid of the outlier by calculating zscore"
   ]
  },
  {
   "cell_type": "code",
   "execution_count": 22,
   "metadata": {},
   "outputs": [
    {
     "data": {
      "text/plain": [
       "<matplotlib.axes._subplots.AxesSubplot at 0x288d2d22c48>"
      ]
     },
     "execution_count": 22,
     "metadata": {},
     "output_type": "execute_result"
    },
    {
     "data": {
      "image/png": "[encoded data removed]",
      "text/plain": [
       "<Figure size 432x288 with 1 Axes>"
      ]
     },
     "metadata": {
      "needs_background": "light"
     },
     "output_type": "display_data"
    }
   ],
   "source": [
    "# Variation in Average price with change in year\n",
    "sns.barplot(x=\"year\",y=\"AveragePrice\",data=df,hue=\"type\")"
   ]
  },
  {
   "cell_type": "code",
   "execution_count": 23,
   "metadata": {},
   "outputs": [
    {
     "data": {
      "text/plain": [
       "<seaborn.axisgrid.FacetGrid at 0x288d2d3c308>"
      ]
     },
     "execution_count": 23,
     "metadata": {},
     "output_type": "execute_result"
    },
    {
     "data": {
      "image/png": "[encoded data removed]",
      "text/plain": [
       "<Figure size 810.175x936 with 1 Axes>"
      ]
     },
     "metadata": {
      "needs_background": "light"
     },
     "output_type": "display_data"
    }
   ],
   "source": [
    "sns.factorplot(\"AveragePrice\",\"region\",data=df,hue=\"year\",height=13,aspect=0.8,palette=\"husl\",join=False)"
   ]
  },
  {
   "cell_type": "markdown",
   "metadata": {},
   "source": [
    "*We can see that 2016 is the year where avocado prices were the highest. "
   ]
  },
  {
   "cell_type": "code",
   "execution_count": 80,
   "metadata": {},
   "outputs": [
    {
     "data": {
      "text/plain": [
       "(array([ 0,  1,  2,  3,  4,  5,  6,  7,  8,  9, 10, 11, 12, 13, 14, 15, 16,\n",
       "        17, 18, 19, 20, 21, 22, 23, 24, 25, 26, 27, 28, 29, 30, 31, 32, 33,\n",
       "        34, 35, 36, 37, 38, 39, 40, 41, 42, 43, 44, 45, 46, 47, 48, 49, 50]),\n",
       " <a list of 51 Text xticklabel objects>)"
      ]
     },
     "execution_count": 80,
     "metadata": {},
     "output_type": "execute_result"
    },
    {
     "data": {
      "image/png": "[encoded data removed]",
      "text/plain": [
       "<Figure size 864x432 with 1 Axes>"
      ]
     },
     "metadata": {
      "needs_background": "light"
     },
     "output_type": "display_data"
    }
   ],
   "source": [
    "plt.figure(figsize=(12,6))\n",
    "sns.boxplot(x=df[\"region\"],y=df[\"AveragePrice\"])\n",
    "plt.xticks(rotation=80)"
   ]
  },
  {
   "cell_type": "code",
   "execution_count": 24,
   "metadata": {},
   "outputs": [],
   "source": [
    "df=df.drop(columns=[\"Unnamed: 0\",\"Date\"])"
   ]
  },
  {
   "cell_type": "code",
   "execution_count": 25,
   "metadata": {},
   "outputs": [
    {
     "data": {
      "text/html": [
       "<div>\n",
       "<style scoped>\n",
       "    .dataframe tbody tr th:only-of-type {\n",
       "        vertical-align: middle;\n",
       "    }\n",
       "\n",
       "    .dataframe tbody tr th {\n",
       "        vertical-align: top;\n",
       "    }\n",
       "\n",
       "    .dataframe thead th {\n",
       "        text-align: right;\n",
       "    }\n",
       "</style>\n",
       "<table border=\"1\" class=\"dataframe\">\n",
       "  <thead>\n",
       "    <tr style=\"text-align: right;\">\n",
       "      <th></th>\n",
       "      <th>AveragePrice</th>\n",
       "      <th>Total Volume</th>\n",
       "      <th>4046</th>\n",
       "      <th>4225</th>\n",
       "      <th>4770</th>\n",
       "      <th>Total Bags</th>\n",
       "      <th>Small Bags</th>\n",
       "      <th>Large Bags</th>\n",
       "      <th>XLarge Bags</th>\n",
       "      <th>type</th>\n",
       "      <th>year</th>\n",
       "      <th>region</th>\n",
       "    </tr>\n",
       "  </thead>\n",
       "  <tbody>\n",
       "    <tr>\n",
       "      <th>0</th>\n",
       "      <td>1.33</td>\n",
       "      <td>64236.62</td>\n",
       "      <td>1036.74</td>\n",
       "      <td>54454.85</td>\n",
       "      <td>48.16</td>\n",
       "      <td>8696.87</td>\n",
       "      <td>8603.62</td>\n",
       "      <td>93.25</td>\n",
       "      <td>0.00</td>\n",
       "      <td>conventional</td>\n",
       "      <td>2015</td>\n",
       "      <td>Albany</td>\n",
       "    </tr>\n",
       "    <tr>\n",
       "      <th>1</th>\n",
       "      <td>1.35</td>\n",
       "      <td>54876.98</td>\n",
       "      <td>674.28</td>\n",
       "      <td>44638.81</td>\n",
       "      <td>58.33</td>\n",
       "      <td>9505.56</td>\n",
       "      <td>9408.07</td>\n",
       "      <td>97.49</td>\n",
       "      <td>0.00</td>\n",
       "      <td>conventional</td>\n",
       "      <td>2015</td>\n",
       "      <td>Albany</td>\n",
       "    </tr>\n",
       "    <tr>\n",
       "      <th>2</th>\n",
       "      <td>0.93</td>\n",
       "      <td>118220.22</td>\n",
       "      <td>794.70</td>\n",
       "      <td>109149.67</td>\n",
       "      <td>130.50</td>\n",
       "      <td>8145.35</td>\n",
       "      <td>8042.21</td>\n",
       "      <td>103.14</td>\n",
       "      <td>0.00</td>\n",
       "      <td>conventional</td>\n",
       "      <td>2015</td>\n",
       "      <td>Albany</td>\n",
       "    </tr>\n",
       "    <tr>\n",
       "      <th>3</th>\n",
       "      <td>1.08</td>\n",
       "      <td>78992.15</td>\n",
       "      <td>1132.00</td>\n",
       "      <td>71976.41</td>\n",
       "      <td>72.58</td>\n",
       "      <td>5811.16</td>\n",
       "      <td>5677.40</td>\n",
       "      <td>133.76</td>\n",
       "      <td>0.00</td>\n",
       "      <td>conventional</td>\n",
       "      <td>2015</td>\n",
       "      <td>Albany</td>\n",
       "    </tr>\n",
       "    <tr>\n",
       "      <th>4</th>\n",
       "      <td>1.28</td>\n",
       "      <td>51039.60</td>\n",
       "      <td>941.48</td>\n",
       "      <td>43838.39</td>\n",
       "      <td>75.78</td>\n",
       "      <td>6183.95</td>\n",
       "      <td>5986.26</td>\n",
       "      <td>197.69</td>\n",
       "      <td>0.00</td>\n",
       "      <td>conventional</td>\n",
       "      <td>2015</td>\n",
       "      <td>Albany</td>\n",
       "    </tr>\n",
       "    <tr>\n",
       "      <th>...</th>\n",
       "      <td>...</td>\n",
       "      <td>...</td>\n",
       "      <td>...</td>\n",
       "      <td>...</td>\n",
       "      <td>...</td>\n",
       "      <td>...</td>\n",
       "      <td>...</td>\n",
       "      <td>...</td>\n",
       "      <td>...</td>\n",
       "      <td>...</td>\n",
       "      <td>...</td>\n",
       "      <td>...</td>\n",
       "    </tr>\n",
       "    <tr>\n",
       "      <th>1512</th>\n",
       "      <td>1.39</td>\n",
       "      <td>190846.01</td>\n",
       "      <td>57529.11</td>\n",
       "      <td>56366.66</td>\n",
       "      <td>17531.78</td>\n",
       "      <td>59418.46</td>\n",
       "      <td>48823.53</td>\n",
       "      <td>10354.65</td>\n",
       "      <td>240.28</td>\n",
       "      <td>conventional</td>\n",
       "      <td>2016</td>\n",
       "      <td>Charlotte</td>\n",
       "    </tr>\n",
       "    <tr>\n",
       "      <th>1513</th>\n",
       "      <td>1.51</td>\n",
       "      <td>178235.75</td>\n",
       "      <td>43325.87</td>\n",
       "      <td>52189.61</td>\n",
       "      <td>19419.57</td>\n",
       "      <td>63300.70</td>\n",
       "      <td>54704.14</td>\n",
       "      <td>8596.56</td>\n",
       "      <td>0.00</td>\n",
       "      <td>conventional</td>\n",
       "      <td>2016</td>\n",
       "      <td>Charlotte</td>\n",
       "    </tr>\n",
       "    <tr>\n",
       "      <th>1514</th>\n",
       "      <td>1.48</td>\n",
       "      <td>178410.82</td>\n",
       "      <td>46364.75</td>\n",
       "      <td>52893.38</td>\n",
       "      <td>16736.92</td>\n",
       "      <td>62415.77</td>\n",
       "      <td>53332.61</td>\n",
       "      <td>8258.16</td>\n",
       "      <td>825.00</td>\n",
       "      <td>conventional</td>\n",
       "      <td>2016</td>\n",
       "      <td>Charlotte</td>\n",
       "    </tr>\n",
       "    <tr>\n",
       "      <th>1515</th>\n",
       "      <td>1.47</td>\n",
       "      <td>189131.52</td>\n",
       "      <td>54110.79</td>\n",
       "      <td>53593.58</td>\n",
       "      <td>17495.42</td>\n",
       "      <td>63931.73</td>\n",
       "      <td>55653.47</td>\n",
       "      <td>8278.26</td>\n",
       "      <td>0.00</td>\n",
       "      <td>conventional</td>\n",
       "      <td>2016</td>\n",
       "      <td>Charlotte</td>\n",
       "    </tr>\n",
       "    <tr>\n",
       "      <th>1516</th>\n",
       "      <td>1.43</td>\n",
       "      <td>182978.30</td>\n",
       "      <td>43116.41</td>\n",
       "      <td>54193.42</td>\n",
       "      <td>16563.91</td>\n",
       "      <td>69104.56</td>\n",
       "      <td>57456.21</td>\n",
       "      <td>11648.35</td>\n",
       "      <td>0.00</td>\n",
       "      <td>conventional</td>\n",
       "      <td>2016</td>\n",
       "      <td>Charlotte</td>\n",
       "    </tr>\n",
       "  </tbody>\n",
       "</table>\n",
       "<p>1517 rows × 12 columns</p>\n",
       "</div>"
      ],
      "text/plain": [
       "      AveragePrice  Total Volume      4046       4225      4770  Total Bags  \\\n",
       "0             1.33      64236.62   1036.74   54454.85     48.16     8696.87   \n",
       "1             1.35      54876.98    674.28   44638.81     58.33     9505.56   \n",
       "2             0.93     118220.22    794.70  109149.67    130.50     8145.35   \n",
       "3             1.08      78992.15   1132.00   71976.41     72.58     5811.16   \n",
       "4             1.28      51039.60    941.48   43838.39     75.78     6183.95   \n",
       "...            ...           ...       ...        ...       ...         ...   \n",
       "1512          1.39     190846.01  57529.11   56366.66  17531.78    59418.46   \n",
       "1513          1.51     178235.75  43325.87   52189.61  19419.57    63300.70   \n",
       "1514          1.48     178410.82  46364.75   52893.38  16736.92    62415.77   \n",
       "1515          1.47     189131.52  54110.79   53593.58  17495.42    63931.73   \n",
       "1516          1.43     182978.30  43116.41   54193.42  16563.91    69104.56   \n",
       "\n",
       "      Small Bags  Large Bags  XLarge Bags          type  year     region  \n",
       "0        8603.62       93.25         0.00  conventional  2015     Albany  \n",
       "1        9408.07       97.49         0.00  conventional  2015     Albany  \n",
       "2        8042.21      103.14         0.00  conventional  2015     Albany  \n",
       "3        5677.40      133.76         0.00  conventional  2015     Albany  \n",
       "4        5986.26      197.69         0.00  conventional  2015     Albany  \n",
       "...          ...         ...          ...           ...   ...        ...  \n",
       "1512    48823.53    10354.65       240.28  conventional  2016  Charlotte  \n",
       "1513    54704.14     8596.56         0.00  conventional  2016  Charlotte  \n",
       "1514    53332.61     8258.16       825.00  conventional  2016  Charlotte  \n",
       "1515    55653.47     8278.26         0.00  conventional  2016  Charlotte  \n",
       "1516    57456.21    11648.35         0.00  conventional  2016  Charlotte  \n",
       "\n",
       "[1517 rows x 12 columns]"
      ]
     },
     "execution_count": 25,
     "metadata": {},
     "output_type": "execute_result"
    }
   ],
   "source": [
    "df"
   ]
  },
  {
   "cell_type": "code",
   "execution_count": 26,
   "metadata": {},
   "outputs": [],
   "source": [
    "# Using LabelEncoder converting the labels into numeric form so as to convert it into the machine-readable form.\n",
    "from sklearn.preprocessing import LabelEncoder\n",
    "\n",
    "le=LabelEncoder()\n",
    "\n",
    "list1=['region','type']\n",
    "\n",
    "for val in list1:\n",
    "    df[val]=le.fit_transform(df[val].astype(str))"
   ]
  },
  {
   "cell_type": "code",
   "execution_count": 27,
   "metadata": {},
   "outputs": [
    {
     "data": {
      "text/html": [
       "<div>\n",
       "<style scoped>\n",
       "    .dataframe tbody tr th:only-of-type {\n",
       "        vertical-align: middle;\n",
       "    }\n",
       "\n",
       "    .dataframe tbody tr th {\n",
       "        vertical-align: top;\n",
       "    }\n",
       "\n",
       "    .dataframe thead th {\n",
       "        text-align: right;\n",
       "    }\n",
       "</style>\n",
       "<table border=\"1\" class=\"dataframe\">\n",
       "  <thead>\n",
       "    <tr style=\"text-align: right;\">\n",
       "      <th></th>\n",
       "      <th>AveragePrice</th>\n",
       "      <th>Total Volume</th>\n",
       "      <th>4046</th>\n",
       "      <th>4225</th>\n",
       "      <th>4770</th>\n",
       "      <th>Total Bags</th>\n",
       "      <th>Small Bags</th>\n",
       "      <th>Large Bags</th>\n",
       "      <th>XLarge Bags</th>\n",
       "      <th>type</th>\n",
       "      <th>year</th>\n",
       "      <th>region</th>\n",
       "    </tr>\n",
       "  </thead>\n",
       "  <tbody>\n",
       "    <tr>\n",
       "      <th>0</th>\n",
       "      <td>1.33</td>\n",
       "      <td>64236.62</td>\n",
       "      <td>1036.74</td>\n",
       "      <td>54454.85</td>\n",
       "      <td>48.16</td>\n",
       "      <td>8696.87</td>\n",
       "      <td>8603.62</td>\n",
       "      <td>93.25</td>\n",
       "      <td>0.00</td>\n",
       "      <td>0</td>\n",
       "      <td>2015</td>\n",
       "      <td>0</td>\n",
       "    </tr>\n",
       "    <tr>\n",
       "      <th>1</th>\n",
       "      <td>1.35</td>\n",
       "      <td>54876.98</td>\n",
       "      <td>674.28</td>\n",
       "      <td>44638.81</td>\n",
       "      <td>58.33</td>\n",
       "      <td>9505.56</td>\n",
       "      <td>9408.07</td>\n",
       "      <td>97.49</td>\n",
       "      <td>0.00</td>\n",
       "      <td>0</td>\n",
       "      <td>2015</td>\n",
       "      <td>0</td>\n",
       "    </tr>\n",
       "    <tr>\n",
       "      <th>2</th>\n",
       "      <td>0.93</td>\n",
       "      <td>118220.22</td>\n",
       "      <td>794.70</td>\n",
       "      <td>109149.67</td>\n",
       "      <td>130.50</td>\n",
       "      <td>8145.35</td>\n",
       "      <td>8042.21</td>\n",
       "      <td>103.14</td>\n",
       "      <td>0.00</td>\n",
       "      <td>0</td>\n",
       "      <td>2015</td>\n",
       "      <td>0</td>\n",
       "    </tr>\n",
       "    <tr>\n",
       "      <th>3</th>\n",
       "      <td>1.08</td>\n",
       "      <td>78992.15</td>\n",
       "      <td>1132.00</td>\n",
       "      <td>71976.41</td>\n",
       "      <td>72.58</td>\n",
       "      <td>5811.16</td>\n",
       "      <td>5677.40</td>\n",
       "      <td>133.76</td>\n",
       "      <td>0.00</td>\n",
       "      <td>0</td>\n",
       "      <td>2015</td>\n",
       "      <td>0</td>\n",
       "    </tr>\n",
       "    <tr>\n",
       "      <th>4</th>\n",
       "      <td>1.28</td>\n",
       "      <td>51039.60</td>\n",
       "      <td>941.48</td>\n",
       "      <td>43838.39</td>\n",
       "      <td>75.78</td>\n",
       "      <td>6183.95</td>\n",
       "      <td>5986.26</td>\n",
       "      <td>197.69</td>\n",
       "      <td>0.00</td>\n",
       "      <td>0</td>\n",
       "      <td>2015</td>\n",
       "      <td>0</td>\n",
       "    </tr>\n",
       "    <tr>\n",
       "      <th>...</th>\n",
       "      <td>...</td>\n",
       "      <td>...</td>\n",
       "      <td>...</td>\n",
       "      <td>...</td>\n",
       "      <td>...</td>\n",
       "      <td>...</td>\n",
       "      <td>...</td>\n",
       "      <td>...</td>\n",
       "      <td>...</td>\n",
       "      <td>...</td>\n",
       "      <td>...</td>\n",
       "      <td>...</td>\n",
       "    </tr>\n",
       "    <tr>\n",
       "      <th>1512</th>\n",
       "      <td>1.39</td>\n",
       "      <td>190846.01</td>\n",
       "      <td>57529.11</td>\n",
       "      <td>56366.66</td>\n",
       "      <td>17531.78</td>\n",
       "      <td>59418.46</td>\n",
       "      <td>48823.53</td>\n",
       "      <td>10354.65</td>\n",
       "      <td>240.28</td>\n",
       "      <td>0</td>\n",
       "      <td>2016</td>\n",
       "      <td>7</td>\n",
       "    </tr>\n",
       "    <tr>\n",
       "      <th>1513</th>\n",
       "      <td>1.51</td>\n",
       "      <td>178235.75</td>\n",
       "      <td>43325.87</td>\n",
       "      <td>52189.61</td>\n",
       "      <td>19419.57</td>\n",
       "      <td>63300.70</td>\n",
       "      <td>54704.14</td>\n",
       "      <td>8596.56</td>\n",
       "      <td>0.00</td>\n",
       "      <td>0</td>\n",
       "      <td>2016</td>\n",
       "      <td>7</td>\n",
       "    </tr>\n",
       "    <tr>\n",
       "      <th>1514</th>\n",
       "      <td>1.48</td>\n",
       "      <td>178410.82</td>\n",
       "      <td>46364.75</td>\n",
       "      <td>52893.38</td>\n",
       "      <td>16736.92</td>\n",
       "      <td>62415.77</td>\n",
       "      <td>53332.61</td>\n",
       "      <td>8258.16</td>\n",
       "      <td>825.00</td>\n",
       "      <td>0</td>\n",
       "      <td>2016</td>\n",
       "      <td>7</td>\n",
       "    </tr>\n",
       "    <tr>\n",
       "      <th>1515</th>\n",
       "      <td>1.47</td>\n",
       "      <td>189131.52</td>\n",
       "      <td>54110.79</td>\n",
       "      <td>53593.58</td>\n",
       "      <td>17495.42</td>\n",
       "      <td>63931.73</td>\n",
       "      <td>55653.47</td>\n",
       "      <td>8278.26</td>\n",
       "      <td>0.00</td>\n",
       "      <td>0</td>\n",
       "      <td>2016</td>\n",
       "      <td>7</td>\n",
       "    </tr>\n",
       "    <tr>\n",
       "      <th>1516</th>\n",
       "      <td>1.43</td>\n",
       "      <td>182978.30</td>\n",
       "      <td>43116.41</td>\n",
       "      <td>54193.42</td>\n",
       "      <td>16563.91</td>\n",
       "      <td>69104.56</td>\n",
       "      <td>57456.21</td>\n",
       "      <td>11648.35</td>\n",
       "      <td>0.00</td>\n",
       "      <td>0</td>\n",
       "      <td>2016</td>\n",
       "      <td>7</td>\n",
       "    </tr>\n",
       "  </tbody>\n",
       "</table>\n",
       "<p>1517 rows × 12 columns</p>\n",
       "</div>"
      ],
      "text/plain": [
       "      AveragePrice  Total Volume      4046       4225      4770  Total Bags  \\\n",
       "0             1.33      64236.62   1036.74   54454.85     48.16     8696.87   \n",
       "1             1.35      54876.98    674.28   44638.81     58.33     9505.56   \n",
       "2             0.93     118220.22    794.70  109149.67    130.50     8145.35   \n",
       "3             1.08      78992.15   1132.00   71976.41     72.58     5811.16   \n",
       "4             1.28      51039.60    941.48   43838.39     75.78     6183.95   \n",
       "...            ...           ...       ...        ...       ...         ...   \n",
       "1512          1.39     190846.01  57529.11   56366.66  17531.78    59418.46   \n",
       "1513          1.51     178235.75  43325.87   52189.61  19419.57    63300.70   \n",
       "1514          1.48     178410.82  46364.75   52893.38  16736.92    62415.77   \n",
       "1515          1.47     189131.52  54110.79   53593.58  17495.42    63931.73   \n",
       "1516          1.43     182978.30  43116.41   54193.42  16563.91    69104.56   \n",
       "\n",
       "      Small Bags  Large Bags  XLarge Bags  type  year  region  \n",
       "0        8603.62       93.25         0.00     0  2015       0  \n",
       "1        9408.07       97.49         0.00     0  2015       0  \n",
       "2        8042.21      103.14         0.00     0  2015       0  \n",
       "3        5677.40      133.76         0.00     0  2015       0  \n",
       "4        5986.26      197.69         0.00     0  2015       0  \n",
       "...          ...         ...          ...   ...   ...     ...  \n",
       "1512    48823.53    10354.65       240.28     0  2016       7  \n",
       "1513    54704.14     8596.56         0.00     0  2016       7  \n",
       "1514    53332.61     8258.16       825.00     0  2016       7  \n",
       "1515    55653.47     8278.26         0.00     0  2016       7  \n",
       "1516    57456.21    11648.35         0.00     0  2016       7  \n",
       "\n",
       "[1517 rows x 12 columns]"
      ]
     },
     "execution_count": 27,
     "metadata": {},
     "output_type": "execute_result"
    }
   ],
   "source": [
    "df"
   ]
  },
  {
   "cell_type": "markdown",
   "metadata": {},
   "source": [
    "# To check distribution of skewness"
   ]
  },
  {
   "cell_type": "code",
   "execution_count": 28,
   "metadata": {},
   "outputs": [
    {
     "data": {
      "text/plain": [
       "AveragePrice   -0.109444\n",
       "Total Volume    6.200138\n",
       "4046            6.051830\n",
       "4225            6.394926\n",
       "4770            5.405164\n",
       "Total Bags      5.366378\n",
       "Small Bags      5.355185\n",
       "Large Bags      5.144495\n",
       "XLarge Bags     5.775077\n",
       "type            0.000000\n",
       "year            1.828332\n",
       "region          0.288146\n",
       "dtype: float64"
      ]
     },
     "execution_count": 28,
     "metadata": {},
     "output_type": "execute_result"
    }
   ],
   "source": [
    "df.skew()"
   ]
  },
  {
   "cell_type": "code",
   "execution_count": 29,
   "metadata": {},
   "outputs": [],
   "source": [
    "# Treating skewness using log\n",
    "import numpy as np\n",
    "\n",
    "for col in df.columns:\n",
    "    if df.skew().loc[col]>0.55:\n",
    "        df[col]=np.log1p(df[col])"
   ]
  },
  {
   "cell_type": "code",
   "execution_count": 30,
   "metadata": {},
   "outputs": [
    {
     "data": {
      "text/plain": [
       "AveragePrice   -0.109444\n",
       "Total Volume    0.667468\n",
       "4046           -0.160268\n",
       "4225            0.184436\n",
       "4770           -0.355508\n",
       "Total Bags      0.695502\n",
       "Small Bags      0.713843\n",
       "Large Bags     -0.912766\n",
       "XLarge Bags     0.783913\n",
       "type            0.000000\n",
       "year            1.828332\n",
       "region          0.288146\n",
       "dtype: float64"
      ]
     },
     "execution_count": 30,
     "metadata": {},
     "output_type": "execute_result"
    }
   ],
   "source": [
    "df.skew()"
   ]
  },
  {
   "cell_type": "code",
   "execution_count": 31,
   "metadata": {},
   "outputs": [],
   "source": [
    "x=df.drop(\"AveragePrice\",axis=1)\n",
    "y=pd.DataFrame(df[\"AveragePrice\"])"
   ]
  },
  {
   "cell_type": "code",
   "execution_count": 32,
   "metadata": {},
   "outputs": [],
   "source": [
    "#scaling the input variables\n",
    "from sklearn.preprocessing import StandardScaler\n",
    "\n",
    "sc=StandardScaler()\n",
    "x=sc.fit_transform(x)\n",
    "x=pd.DataFrame(data=x)"
   ]
  },
  {
   "cell_type": "code",
   "execution_count": 33,
   "metadata": {},
   "outputs": [
    {
     "data": {
      "text/html": [
       "<div>\n",
       "<style scoped>\n",
       "    .dataframe tbody tr th:only-of-type {\n",
       "        vertical-align: middle;\n",
       "    }\n",
       "\n",
       "    .dataframe tbody tr th {\n",
       "        vertical-align: top;\n",
       "    }\n",
       "\n",
       "    .dataframe thead th {\n",
       "        text-align: right;\n",
       "    }\n",
       "</style>\n",
       "<table border=\"1\" class=\"dataframe\">\n",
       "  <thead>\n",
       "    <tr style=\"text-align: right;\">\n",
       "      <th></th>\n",
       "      <th>0</th>\n",
       "      <th>1</th>\n",
       "      <th>2</th>\n",
       "      <th>3</th>\n",
       "      <th>4</th>\n",
       "      <th>5</th>\n",
       "      <th>6</th>\n",
       "      <th>7</th>\n",
       "      <th>8</th>\n",
       "      <th>9</th>\n",
       "      <th>10</th>\n",
       "    </tr>\n",
       "  </thead>\n",
       "  <tbody>\n",
       "    <tr>\n",
       "      <th>0</th>\n",
       "      <td>-1.356762</td>\n",
       "      <td>-1.828162</td>\n",
       "      <td>-0.567524</td>\n",
       "      <td>-1.810613</td>\n",
       "      <td>-1.684725</td>\n",
       "      <td>-1.539248</td>\n",
       "      <td>-0.966743</td>\n",
       "      <td>-0.810775</td>\n",
       "      <td>0.0</td>\n",
       "      <td>-0.441008</td>\n",
       "      <td>-1.314338</td>\n",
       "    </tr>\n",
       "    <tr>\n",
       "      <th>1</th>\n",
       "      <td>-1.466387</td>\n",
       "      <td>-2.012069</td>\n",
       "      <td>-0.684233</td>\n",
       "      <td>-1.737594</td>\n",
       "      <td>-1.620123</td>\n",
       "      <td>-1.474983</td>\n",
       "      <td>-0.953861</td>\n",
       "      <td>-0.810775</td>\n",
       "      <td>0.0</td>\n",
       "      <td>-0.441008</td>\n",
       "      <td>-1.314338</td>\n",
       "    </tr>\n",
       "    <tr>\n",
       "      <th>2</th>\n",
       "      <td>-0.932139</td>\n",
       "      <td>-1.941834</td>\n",
       "      <td>-0.159241</td>\n",
       "      <td>-1.428526</td>\n",
       "      <td>-1.732326</td>\n",
       "      <td>-1.587763</td>\n",
       "      <td>-0.937531</td>\n",
       "      <td>-0.810775</td>\n",
       "      <td>0.0</td>\n",
       "      <td>-0.441008</td>\n",
       "      <td>-1.314338</td>\n",
       "    </tr>\n",
       "    <tr>\n",
       "      <th>3</th>\n",
       "      <td>-1.212820</td>\n",
       "      <td>-1.790572</td>\n",
       "      <td>-0.403726</td>\n",
       "      <td>-1.654003</td>\n",
       "      <td>-1.977653</td>\n",
       "      <td>-1.838106</td>\n",
       "      <td>-0.862073</td>\n",
       "      <td>-0.810775</td>\n",
       "      <td>0.0</td>\n",
       "      <td>-0.441008</td>\n",
       "      <td>-1.314338</td>\n",
       "    </tr>\n",
       "    <tr>\n",
       "      <th>4</th>\n",
       "      <td>-1.516851</td>\n",
       "      <td>-1.869374</td>\n",
       "      <td>-0.694856</td>\n",
       "      <td>-1.637471</td>\n",
       "      <td>-1.932480</td>\n",
       "      <td>-1.800022</td>\n",
       "      <td>-0.748414</td>\n",
       "      <td>-0.810775</td>\n",
       "      <td>0.0</td>\n",
       "      <td>-0.441008</td>\n",
       "      <td>-1.314338</td>\n",
       "    </tr>\n",
       "    <tr>\n",
       "      <th>...</th>\n",
       "      <td>...</td>\n",
       "      <td>...</td>\n",
       "      <td>...</td>\n",
       "      <td>...</td>\n",
       "      <td>...</td>\n",
       "      <td>...</td>\n",
       "      <td>...</td>\n",
       "      <td>...</td>\n",
       "      <td>...</td>\n",
       "      <td>...</td>\n",
       "      <td>...</td>\n",
       "    </tr>\n",
       "    <tr>\n",
       "      <th>1512</th>\n",
       "      <td>-0.598749</td>\n",
       "      <td>-0.109561</td>\n",
       "      <td>-0.547264</td>\n",
       "      <td>0.471494</td>\n",
       "      <td>-0.288452</td>\n",
       "      <td>-0.291023</td>\n",
       "      <td>0.408973</td>\n",
       "      <td>0.753079</td>\n",
       "      <td>0.0</td>\n",
       "      <td>2.267532</td>\n",
       "      <td>-0.880286</td>\n",
       "    </tr>\n",
       "    <tr>\n",
       "      <th>1513</th>\n",
       "      <td>-0.646336</td>\n",
       "      <td>-0.230919</td>\n",
       "      <td>-0.592472</td>\n",
       "      <td>0.511204</td>\n",
       "      <td>-0.242463</td>\n",
       "      <td>-0.209250</td>\n",
       "      <td>0.354507</td>\n",
       "      <td>-0.810775</td>\n",
       "      <td>0.0</td>\n",
       "      <td>2.267532</td>\n",
       "      <td>-0.880286</td>\n",
       "    </tr>\n",
       "    <tr>\n",
       "      <th>1514</th>\n",
       "      <td>-0.645653</td>\n",
       "      <td>-0.201904</td>\n",
       "      <td>-0.584607</td>\n",
       "      <td>0.453477</td>\n",
       "      <td>-0.252693</td>\n",
       "      <td>-0.227507</td>\n",
       "      <td>0.342751</td>\n",
       "      <td>1.103891</td>\n",
       "      <td>0.0</td>\n",
       "      <td>2.267532</td>\n",
       "      <td>-0.880286</td>\n",
       "    </tr>\n",
       "    <tr>\n",
       "      <th>1515</th>\n",
       "      <td>-0.605031</td>\n",
       "      <td>-0.135779</td>\n",
       "      <td>-0.576885</td>\n",
       "      <td>0.470688</td>\n",
       "      <td>-0.235255</td>\n",
       "      <td>-0.196878</td>\n",
       "      <td>0.343463</td>\n",
       "      <td>-0.810775</td>\n",
       "      <td>0.0</td>\n",
       "      <td>2.267532</td>\n",
       "      <td>-0.880286</td>\n",
       "    </tr>\n",
       "    <tr>\n",
       "      <th>1516</th>\n",
       "      <td>-0.628056</td>\n",
       "      <td>-0.232993</td>\n",
       "      <td>-0.570350</td>\n",
       "      <td>0.449442</td>\n",
       "      <td>-0.178720</td>\n",
       "      <td>-0.173957</td>\n",
       "      <td>0.443435</td>\n",
       "      <td>-0.810775</td>\n",
       "      <td>0.0</td>\n",
       "      <td>2.267532</td>\n",
       "      <td>-0.880286</td>\n",
       "    </tr>\n",
       "  </tbody>\n",
       "</table>\n",
       "<p>1517 rows × 11 columns</p>\n",
       "</div>"
      ],
      "text/plain": [
       "             0         1         2         3         4         5         6  \\\n",
       "0    -1.356762 -1.828162 -0.567524 -1.810613 -1.684725 -1.539248 -0.966743   \n",
       "1    -1.466387 -2.012069 -0.684233 -1.737594 -1.620123 -1.474983 -0.953861   \n",
       "2    -0.932139 -1.941834 -0.159241 -1.428526 -1.732326 -1.587763 -0.937531   \n",
       "3    -1.212820 -1.790572 -0.403726 -1.654003 -1.977653 -1.838106 -0.862073   \n",
       "4    -1.516851 -1.869374 -0.694856 -1.637471 -1.932480 -1.800022 -0.748414   \n",
       "...        ...       ...       ...       ...       ...       ...       ...   \n",
       "1512 -0.598749 -0.109561 -0.547264  0.471494 -0.288452 -0.291023  0.408973   \n",
       "1513 -0.646336 -0.230919 -0.592472  0.511204 -0.242463 -0.209250  0.354507   \n",
       "1514 -0.645653 -0.201904 -0.584607  0.453477 -0.252693 -0.227507  0.342751   \n",
       "1515 -0.605031 -0.135779 -0.576885  0.470688 -0.235255 -0.196878  0.343463   \n",
       "1516 -0.628056 -0.232993 -0.570350  0.449442 -0.178720 -0.173957  0.443435   \n",
       "\n",
       "             7    8         9        10  \n",
       "0    -0.810775  0.0 -0.441008 -1.314338  \n",
       "1    -0.810775  0.0 -0.441008 -1.314338  \n",
       "2    -0.810775  0.0 -0.441008 -1.314338  \n",
       "3    -0.810775  0.0 -0.441008 -1.314338  \n",
       "4    -0.810775  0.0 -0.441008 -1.314338  \n",
       "...        ...  ...       ...       ...  \n",
       "1512  0.753079  0.0  2.267532 -0.880286  \n",
       "1513 -0.810775  0.0  2.267532 -0.880286  \n",
       "1514  1.103891  0.0  2.267532 -0.880286  \n",
       "1515 -0.810775  0.0  2.267532 -0.880286  \n",
       "1516 -0.810775  0.0  2.267532 -0.880286  \n",
       "\n",
       "[1517 rows x 11 columns]"
      ]
     },
     "execution_count": 33,
     "metadata": {},
     "output_type": "execute_result"
    }
   ],
   "source": [
    "x"
   ]
  },
  {
   "cell_type": "code",
   "execution_count": null,
   "metadata": {},
   "outputs": [],
   "source": []
  },
  {
   "cell_type": "code",
   "execution_count": 34,
   "metadata": {},
   "outputs": [],
   "source": [
    "## finding out the random state value wiht which our linear model learns maximum\n",
    "from sklearn.metrics import mean_absolute_error,mean_squared_error\n",
    "from sklearn.metrics import r2_score\n",
    "from sklearn.model_selection import train_test_split\n",
    "\n",
    "def maxr2_score(regr,x,y):\n",
    "    max_r_score=0\n",
    "    for r_state in range(42,100):\n",
    "        \n",
    "        x_train,x_test,y_train,y_test=train_test_split(x,y,random_state=r_state,test_size=0.2)\n",
    "        regr.fit(x_train,y_train)\n",
    "        y_pred=regr.predict(x_test)\n",
    "        r2_scr=r2_score(y_test,y_pred)\n",
    "        print(\"r2 score corresponding to\",r_state,\"is\",r2_scr)\n",
    "        if r2_scr>max_r_score:\n",
    "            max_r_score=r2_scr\n",
    "            final_r_state=r_state\n",
    "    print(\"max r2 score corresponding to\",final_r_state,\"is\",max_r_score)\n",
    "    return final_r_state    "
   ]
  },
  {
   "cell_type": "code",
   "execution_count": 35,
   "metadata": {},
   "outputs": [
    {
     "name": "stdout",
     "output_type": "stream",
     "text": [
      "r2 score corresponding to 42 is 0.37572491616585413\n",
      "r2 score corresponding to 43 is 0.41920258861436666\n",
      "r2 score corresponding to 44 is 0.3609248276255723\n",
      "r2 score corresponding to 45 is 0.3182970794034615\n",
      "r2 score corresponding to 46 is 0.401662145798636\n",
      "r2 score corresponding to 47 is 0.3773944727527472\n",
      "r2 score corresponding to 48 is 0.3735162838627545\n",
      "r2 score corresponding to 49 is 0.3461382740390454\n",
      "r2 score corresponding to 50 is 0.322023383951069\n",
      "r2 score corresponding to 51 is 0.3817605341480941\n",
      "r2 score corresponding to 52 is 0.3542531333303307\n",
      "r2 score corresponding to 53 is 0.39445136891998556\n",
      "r2 score corresponding to 54 is 0.4303595579703722\n",
      "r2 score corresponding to 55 is 0.42364294571742156\n",
      "r2 score corresponding to 56 is 0.23368575831527505\n",
      "r2 score corresponding to 57 is 0.35788958938018667\n",
      "r2 score corresponding to 58 is 0.29890101406057623\n",
      "r2 score corresponding to 59 is 0.38881315877745093\n",
      "r2 score corresponding to 60 is 0.4161445174948436\n",
      "r2 score corresponding to 61 is 0.3551171322104094\n",
      "r2 score corresponding to 62 is 0.31090375907774104\n",
      "r2 score corresponding to 63 is 0.3898835906470238\n",
      "r2 score corresponding to 64 is 0.39966587355365535\n",
      "r2 score corresponding to 65 is 0.3102926991861783\n",
      "r2 score corresponding to 66 is 0.37094654215126455\n",
      "r2 score corresponding to 67 is 0.3664979536587558\n",
      "r2 score corresponding to 68 is 0.3771737042225788\n",
      "r2 score corresponding to 69 is 0.31403197736726096\n",
      "r2 score corresponding to 70 is 0.3394128832906348\n",
      "r2 score corresponding to 71 is 0.3905724183359013\n",
      "r2 score corresponding to 72 is 0.2789510576906865\n",
      "r2 score corresponding to 73 is 0.3878391626921105\n",
      "r2 score corresponding to 74 is 0.4011078091511767\n",
      "r2 score corresponding to 75 is 0.3825809682572544\n",
      "r2 score corresponding to 76 is 0.4153737747808195\n",
      "r2 score corresponding to 77 is 0.2855167515877637\n",
      "r2 score corresponding to 78 is 0.37193206433951587\n",
      "r2 score corresponding to 79 is 0.37136103197691306\n",
      "r2 score corresponding to 80 is 0.38299463735776207\n",
      "r2 score corresponding to 81 is 0.37144545174791654\n",
      "r2 score corresponding to 82 is 0.4624361313093125\n",
      "r2 score corresponding to 83 is 0.2954716076743329\n",
      "r2 score corresponding to 84 is 0.44135150603094186\n",
      "r2 score corresponding to 85 is 0.38244971486374413\n",
      "r2 score corresponding to 86 is 0.3011721526371034\n",
      "r2 score corresponding to 87 is 0.401856556297577\n",
      "r2 score corresponding to 88 is 0.3042237758569937\n",
      "r2 score corresponding to 89 is 0.4815037954092227\n",
      "r2 score corresponding to 90 is 0.2912524716000099\n",
      "r2 score corresponding to 91 is 0.4032658874076217\n",
      "r2 score corresponding to 92 is 0.4338901946184841\n",
      "r2 score corresponding to 93 is 0.38674028596083987\n",
      "r2 score corresponding to 94 is 0.3540657359803956\n",
      "r2 score corresponding to 95 is 0.40616587046031216\n",
      "r2 score corresponding to 96 is 0.3799347450122813\n",
      "r2 score corresponding to 97 is 0.31889027250253343\n",
      "r2 score corresponding to 98 is 0.32530821706081525\n",
      "r2 score corresponding to 99 is 0.42906123718174605\n",
      "max r2 score corresponding to 89 is 0.4815037954092227\n"
     ]
    }
   ],
   "source": [
    "from sklearn.linear_model import LinearRegression\n",
    "\n",
    "lreg=LinearRegression()\n",
    "\n",
    "r_state=maxr2_score(lreg,x,y)"
   ]
  },
  {
   "cell_type": "code",
   "execution_count": 36,
   "metadata": {},
   "outputs": [
    {
     "data": {
      "text/plain": [
       "{'n_neighbors': 29}"
      ]
     },
     "execution_count": 36,
     "metadata": {},
     "output_type": "execute_result"
    }
   ],
   "source": [
    "#Lets use grid_search to find optimal value of n_neighbors for KNN model\n",
    "from sklearn.model_selection import GridSearchCV\n",
    "from sklearn.neighbors import KNeighborsRegressor\n",
    "neighbors={\"n_neighbors\":range(1,30)}\n",
    "knr=KNeighborsRegressor()\n",
    "gknr = GridSearchCV(knr,neighbors,cv=10)\n",
    "gknr.fit(x,y)\n",
    "gknr.best_params_"
   ]
  },
  {
   "cell_type": "code",
   "execution_count": 37,
   "metadata": {},
   "outputs": [
    {
     "name": "stdout",
     "output_type": "stream",
     "text": [
      "r2 score corresponding to 42 is 0.529662432713357\n",
      "r2 score corresponding to 43 is 0.5991318684559133\n",
      "r2 score corresponding to 44 is 0.5620854824249211\n",
      "r2 score corresponding to 45 is 0.5001607541452483\n",
      "r2 score corresponding to 46 is 0.579007024073072\n",
      "r2 score corresponding to 47 is 0.5642035508107142\n",
      "r2 score corresponding to 48 is 0.49030861565149364\n",
      "r2 score corresponding to 49 is 0.5431181464955355\n",
      "r2 score corresponding to 50 is 0.5452643094778575\n",
      "r2 score corresponding to 51 is 0.6193194226865397\n",
      "r2 score corresponding to 52 is 0.5925243408907162\n",
      "r2 score corresponding to 53 is 0.5789144834670696\n",
      "r2 score corresponding to 54 is 0.585494551311871\n",
      "r2 score corresponding to 55 is 0.5402016621086932\n",
      "r2 score corresponding to 56 is 0.5262265905257528\n",
      "r2 score corresponding to 57 is 0.5177305351294608\n",
      "r2 score corresponding to 58 is 0.5206858382571944\n",
      "r2 score corresponding to 59 is 0.576310456324046\n",
      "r2 score corresponding to 60 is 0.6199273653695424\n",
      "r2 score corresponding to 61 is 0.5500047398519443\n",
      "r2 score corresponding to 62 is 0.5596868622340616\n",
      "r2 score corresponding to 63 is 0.5434558770198883\n",
      "r2 score corresponding to 64 is 0.5488499483638543\n",
      "r2 score corresponding to 65 is 0.5084084826041031\n",
      "r2 score corresponding to 66 is 0.6212268147414233\n",
      "r2 score corresponding to 67 is 0.5908847256850722\n",
      "r2 score corresponding to 68 is 0.5797024403838426\n",
      "r2 score corresponding to 69 is 0.4954449040817127\n",
      "r2 score corresponding to 70 is 0.594142276948793\n",
      "r2 score corresponding to 71 is 0.5310272359690715\n",
      "r2 score corresponding to 72 is 0.5515772271688932\n",
      "r2 score corresponding to 73 is 0.5788255193474663\n",
      "r2 score corresponding to 74 is 0.6197056946625168\n",
      "r2 score corresponding to 75 is 0.580195418272387\n",
      "r2 score corresponding to 76 is 0.5218922471060934\n",
      "r2 score corresponding to 77 is 0.5524183105963099\n",
      "r2 score corresponding to 78 is 0.5482365352670554\n",
      "r2 score corresponding to 79 is 0.5739940626307347\n",
      "r2 score corresponding to 80 is 0.5471288113233287\n",
      "r2 score corresponding to 81 is 0.5310064450935614\n",
      "r2 score corresponding to 82 is 0.6196538036334225\n",
      "r2 score corresponding to 83 is 0.4422398575137859\n",
      "r2 score corresponding to 84 is 0.5671988003863133\n",
      "r2 score corresponding to 85 is 0.5283576879411636\n",
      "r2 score corresponding to 86 is 0.4331768532076321\n",
      "r2 score corresponding to 87 is 0.5630154772316343\n",
      "r2 score corresponding to 88 is 0.5536107266460916\n",
      "r2 score corresponding to 89 is 0.6429636026325315\n",
      "r2 score corresponding to 90 is 0.5667596069824479\n",
      "r2 score corresponding to 91 is 0.549938935325375\n",
      "r2 score corresponding to 92 is 0.6796056885295543\n",
      "r2 score corresponding to 93 is 0.598157706709798\n",
      "r2 score corresponding to 94 is 0.563786659858494\n",
      "r2 score corresponding to 95 is 0.5179375035390119\n",
      "r2 score corresponding to 96 is 0.4994095129142302\n",
      "r2 score corresponding to 97 is 0.5797162562972988\n",
      "r2 score corresponding to 98 is 0.5204412350842358\n",
      "r2 score corresponding to 99 is 0.6094371131058136\n",
      "max r2 score corresponding to 92 is 0.6796056885295543\n"
     ]
    }
   ],
   "source": [
    "# Lets use KNN regression and check max r2 score corresponding to different states\n",
    "knr = KNeighborsRegressor(n_neighbors=29)\n",
    "r_state=maxr2_score(knr,x,y)"
   ]
  },
  {
   "cell_type": "code",
   "execution_count": 38,
   "metadata": {},
   "outputs": [
    {
     "name": "stdout",
     "output_type": "stream",
     "text": [
      "Mean r2 score for Linear Regression:  0.12877589054654642\n",
      "standard deviation in  r2 score for Linear Regression:  0.2277236439601989\n",
      "\n",
      "Mean r2 score for KNN Regression:  0.14426301837426614\n",
      "standard deviation in  r2 score for KNN Regression:  0.7455543504112472\n"
     ]
    }
   ],
   "source": [
    "# Lets check the mean r2 score of both Linear regression model and knn regression\n",
    "\n",
    "from sklearn.model_selection import cross_val_score\n",
    "print(\"Mean r2 score for Linear Regression: \",cross_val_score(lreg,x,y,cv=5,scoring=\"r2\").mean())\n",
    "print(\"standard deviation in  r2 score for Linear Regression: \",cross_val_score(lreg,x,y,cv=10,scoring=\"r2\").std())\n",
    "print()\n",
    "print(\"Mean r2 score for KNN Regression: \",cross_val_score(knr,x,y,cv=5,scoring=\"r2\").mean())    \n",
    "print(\"standard deviation in  r2 score for KNN Regression: \",cross_val_score(knr,x,y,cv=10,scoring=\"r2\").std())"
   ]
  },
  {
   "cell_type": "code",
   "execution_count": 39,
   "metadata": {},
   "outputs": [
    {
     "data": {
      "text/plain": [
       "{'alpha': 0.01}"
      ]
     },
     "execution_count": 39,
     "metadata": {},
     "output_type": "execute_result"
    }
   ],
   "source": [
    "from sklearn.linear_model import Lasso\n",
    "lsreg = Lasso()\n",
    "parameters={\"alpha\":[0.001,0.01,0.1,1]}\n",
    "clf=GridSearchCV(lsreg,parameters,cv=10)\n",
    "clf.fit(x,y)\n",
    "clf.best_params_"
   ]
  },
  {
   "cell_type": "code",
   "execution_count": 40,
   "metadata": {},
   "outputs": [
    {
     "name": "stdout",
     "output_type": "stream",
     "text": [
      "r2 score corresponding to 42 is 0.29696410389553096\n",
      "r2 score corresponding to 43 is 0.31781243569663753\n",
      "r2 score corresponding to 44 is 0.24709704135600907\n",
      "r2 score corresponding to 45 is 0.25123347138446017\n",
      "r2 score corresponding to 46 is 0.3178725487830534\n",
      "r2 score corresponding to 47 is 0.29474353863151614\n",
      "r2 score corresponding to 48 is 0.26608902793810196\n",
      "r2 score corresponding to 49 is 0.27641145571602566\n",
      "r2 score corresponding to 50 is 0.3114397546674168\n",
      "r2 score corresponding to 51 is 0.29313281843732963\n",
      "r2 score corresponding to 52 is 0.28673014438093214\n",
      "r2 score corresponding to 53 is 0.29211600370390645\n",
      "r2 score corresponding to 54 is 0.29688023114677675\n",
      "r2 score corresponding to 55 is 0.3067601585293158\n",
      "r2 score corresponding to 56 is 0.22898005534710397\n",
      "r2 score corresponding to 57 is 0.2635577841029897\n",
      "r2 score corresponding to 58 is 0.23425419369870792\n",
      "r2 score corresponding to 59 is 0.3095838591775777\n",
      "r2 score corresponding to 60 is 0.2926750049570743\n",
      "r2 score corresponding to 61 is 0.2613186056818346\n",
      "r2 score corresponding to 62 is 0.20972184450137143\n",
      "r2 score corresponding to 63 is 0.2828073365570014\n",
      "r2 score corresponding to 64 is 0.27721570385314287\n",
      "r2 score corresponding to 65 is 0.26226873706438825\n",
      "r2 score corresponding to 66 is 0.26343092657019074\n",
      "r2 score corresponding to 67 is 0.2878961938811877\n",
      "r2 score corresponding to 68 is 0.2944134448798964\n",
      "r2 score corresponding to 69 is 0.2451553584670877\n",
      "r2 score corresponding to 70 is 0.2729038538934099\n",
      "r2 score corresponding to 71 is 0.304575155139292\n",
      "r2 score corresponding to 72 is 0.27079776234489605\n",
      "r2 score corresponding to 73 is 0.33476245001431804\n",
      "r2 score corresponding to 74 is 0.31820630413634865\n",
      "r2 score corresponding to 75 is 0.29657104830267633\n",
      "r2 score corresponding to 76 is 0.28652167488374025\n",
      "r2 score corresponding to 77 is 0.21922265674976849\n",
      "r2 score corresponding to 78 is 0.28847576519894025\n",
      "r2 score corresponding to 79 is 0.26446767400045745\n",
      "r2 score corresponding to 80 is 0.31687610535348276\n",
      "r2 score corresponding to 81 is 0.3151665569140988\n",
      "r2 score corresponding to 82 is 0.32978462174547807\n",
      "r2 score corresponding to 83 is 0.2871362718824224\n",
      "r2 score corresponding to 84 is 0.32772814946222617\n",
      "r2 score corresponding to 85 is 0.31693290002318086\n",
      "r2 score corresponding to 86 is 0.24916959138502504\n",
      "r2 score corresponding to 87 is 0.32786684117850495\n",
      "r2 score corresponding to 88 is 0.2617882032934975\n",
      "r2 score corresponding to 89 is 0.32539672039589607\n",
      "r2 score corresponding to 90 is 0.230841945924792\n",
      "r2 score corresponding to 91 is 0.2803809750881303\n",
      "r2 score corresponding to 92 is 0.3242692127575405\n",
      "r2 score corresponding to 93 is 0.30047474372078176\n",
      "r2 score corresponding to 94 is 0.3067065016732098\n",
      "r2 score corresponding to 95 is 0.3195920208072902\n",
      "r2 score corresponding to 96 is 0.25632917402068167\n",
      "r2 score corresponding to 97 is 0.26330353928947936\n",
      "r2 score corresponding to 98 is 0.233736120360459\n",
      "r2 score corresponding to 99 is 0.33583478700657377\n",
      "max r2 score corresponding to 99 is 0.33583478700657377\n"
     ]
    }
   ],
   "source": [
    "# Lets use Lasso and check max r2 score corresponding to different states\n",
    "lsreg=Lasso(alpha=0.01)\n",
    "r_state=maxr2_score(lsreg,x,y)"
   ]
  },
  {
   "cell_type": "code",
   "execution_count": 41,
   "metadata": {},
   "outputs": [
    {
     "data": {
      "text/plain": [
       "{'alpha': 1}"
      ]
     },
     "execution_count": 41,
     "metadata": {},
     "output_type": "execute_result"
    }
   ],
   "source": [
    "from sklearn.linear_model import Ridge\n",
    "rdreg = Ridge()\n",
    "parameters={\"alpha\":[0.001,0.01,0.1,1]}\n",
    "clf=GridSearchCV(rdreg,parameters,cv=10)\n",
    "clf.fit(x,y)\n",
    "clf.best_params_"
   ]
  },
  {
   "cell_type": "code",
   "execution_count": 42,
   "metadata": {},
   "outputs": [
    {
     "name": "stdout",
     "output_type": "stream",
     "text": [
      "r2 score corresponding to 42 is 0.37572718578662345\n",
      "r2 score corresponding to 43 is 0.41920048818036193\n",
      "r2 score corresponding to 44 is 0.36092251978293033\n",
      "r2 score corresponding to 45 is 0.31829604753809815\n",
      "r2 score corresponding to 46 is 0.40166059072540294\n",
      "r2 score corresponding to 47 is 0.3773946760563136\n",
      "r2 score corresponding to 48 is 0.3735162536269523\n",
      "r2 score corresponding to 49 is 0.3461400397482721\n",
      "r2 score corresponding to 50 is 0.3220289102088191\n",
      "r2 score corresponding to 51 is 0.38175919750708065\n",
      "r2 score corresponding to 52 is 0.3542538549762829\n",
      "r2 score corresponding to 53 is 0.3944500514554836\n",
      "r2 score corresponding to 54 is 0.43035875064031015\n",
      "r2 score corresponding to 55 is 0.42363907879015894\n",
      "r2 score corresponding to 56 is 0.2336920402707271\n",
      "r2 score corresponding to 57 is 0.3578919893559528\n",
      "r2 score corresponding to 58 is 0.2989005375740499\n",
      "r2 score corresponding to 59 is 0.38881430196468014\n",
      "r2 score corresponding to 60 is 0.41614236554019923\n",
      "r2 score corresponding to 61 is 0.35511698107502454\n",
      "r2 score corresponding to 62 is 0.3109044575791028\n",
      "r2 score corresponding to 63 is 0.38988293298785803\n",
      "r2 score corresponding to 64 is 0.39966573920489157\n",
      "r2 score corresponding to 65 is 0.3102942050491323\n",
      "r2 score corresponding to 66 is 0.3709455696675332\n",
      "r2 score corresponding to 67 is 0.3664983750417231\n",
      "r2 score corresponding to 68 is 0.37717558168586574\n",
      "r2 score corresponding to 69 is 0.3140322917292627\n",
      "r2 score corresponding to 70 is 0.33941186666689205\n",
      "r2 score corresponding to 71 is 0.39057335492474543\n",
      "r2 score corresponding to 72 is 0.2789544321642524\n",
      "r2 score corresponding to 73 is 0.387843521549887\n",
      "r2 score corresponding to 74 is 0.401108508133861\n",
      "r2 score corresponding to 75 is 0.3825802254080356\n",
      "r2 score corresponding to 76 is 0.415371308475064\n",
      "r2 score corresponding to 77 is 0.28551708532228937\n",
      "r2 score corresponding to 78 is 0.37193374646960764\n",
      "r2 score corresponding to 79 is 0.37136031205488806\n",
      "r2 score corresponding to 80 is 0.38299417432039073\n",
      "r2 score corresponding to 81 is 0.37144904252116084\n",
      "r2 score corresponding to 82 is 0.46243380151886526\n",
      "r2 score corresponding to 83 is 0.2954768548566895\n",
      "r2 score corresponding to 84 is 0.4413506132268469\n",
      "r2 score corresponding to 85 is 0.38244916992885114\n",
      "r2 score corresponding to 86 is 0.3011734624483904\n",
      "r2 score corresponding to 87 is 0.40185852715862314\n",
      "r2 score corresponding to 88 is 0.30422705024954166\n",
      "r2 score corresponding to 89 is 0.48150012501661055\n",
      "r2 score corresponding to 90 is 0.29125315152890663\n",
      "r2 score corresponding to 91 is 0.4032635691451042\n",
      "r2 score corresponding to 92 is 0.4338903172205224\n",
      "r2 score corresponding to 93 is 0.3867396961236179\n",
      "r2 score corresponding to 94 is 0.3540673686861451\n",
      "r2 score corresponding to 95 is 0.4061661193797036\n",
      "r2 score corresponding to 96 is 0.3799330390441572\n",
      "r2 score corresponding to 97 is 0.31889196440869416\n",
      "r2 score corresponding to 98 is 0.32530838542456386\n",
      "r2 score corresponding to 99 is 0.4290636100209859\n",
      "max r2 score corresponding to 89 is 0.48150012501661055\n"
     ]
    }
   ],
   "source": [
    "# Lets use Lasso and check max r2 score corresponding to different states\n",
    "rdreg=Ridge(alpha=1)\n",
    "r_state=maxr2_score(rdreg,x,y)"
   ]
  },
  {
   "cell_type": "code",
   "execution_count": 45,
   "metadata": {},
   "outputs": [
    {
     "data": {
      "text/plain": [
       "{'learning_rate': 0.1, 'n_estimators': 100}"
      ]
     },
     "execution_count": 45,
     "metadata": {},
     "output_type": "execute_result"
    }
   ],
   "source": [
    "# Now lets use ada boost regression algorithm\n",
    "from sklearn.ensemble import AdaBoostRegressor\n",
    "from sklearn.tree import DecisionTreeRegressor\n",
    "ada_reg=AdaBoostRegressor()\n",
    "paramters={\"learning_rate\":[0.001,0.01,0.01,1],\"n_estimators\":[10,100,500,1000],\"base_estimator\":[lreg,\n",
    "DecisionTreeRegressor(),KNeighborsRegressor()]}\n",
    "clf = GridSearchCV(ada_reg,parameters,cv=5)\n",
    "clf.fit(x,y)\n",
    "clf.best_params_"
   ]
  },
  {
   "cell_type": "code",
   "execution_count": 46,
   "metadata": {},
   "outputs": [
    {
     "name": "stdout",
     "output_type": "stream",
     "text": [
      "Mean r2 score for ada  boosting Regression:  0.15778392200536648\n",
      "standard deviation in  r2 score for ada boosting Regression:  0.13561158478090202\n"
     ]
    }
   ],
   "source": [
    "ada_reg=AdaBoostRegressor(base_estimator=knr,learning_rate=0.1,n_estimators=100)\n",
    "print(\"Mean r2 score for ada  boosting Regression: \",cross_val_score(ada_reg,x,y,cv=5,scoring=\"r2\").mean())\n",
    "print(\"standard deviation in  r2 score for ada boosting Regression: \",cross_val_score(ada_reg,x,y,cv=5,scoring=\"r2\").std())"
   ]
  },
  {
   "cell_type": "code",
   "execution_count": 47,
   "metadata": {},
   "outputs": [
    {
     "name": "stdout",
     "output_type": "stream",
     "text": [
      "r2 score corresponding to 42 is 0.6649054954644924\n",
      "r2 score corresponding to 43 is 0.6875682068120275\n",
      "r2 score corresponding to 44 is 0.6234204777440358\n",
      "r2 score corresponding to 45 is 0.6302632843337834\n",
      "r2 score corresponding to 46 is 0.6461648783648918\n",
      "r2 score corresponding to 47 is 0.6694643854619988\n",
      "r2 score corresponding to 48 is 0.6274756725671918\n",
      "r2 score corresponding to 49 is 0.641945929523884\n",
      "r2 score corresponding to 50 is 0.6563012471266685\n",
      "r2 score corresponding to 51 is 0.6985090626223374\n",
      "r2 score corresponding to 52 is 0.690535365491725\n",
      "r2 score corresponding to 53 is 0.6503492250284255\n",
      "r2 score corresponding to 54 is 0.6765800028033837\n",
      "r2 score corresponding to 55 is 0.6524715611501288\n",
      "r2 score corresponding to 56 is 0.5852516465057465\n",
      "r2 score corresponding to 57 is 0.6585400433780197\n",
      "r2 score corresponding to 58 is 0.6278559104731343\n",
      "r2 score corresponding to 59 is 0.6744897837352145\n",
      "r2 score corresponding to 60 is 0.6883213105550731\n",
      "r2 score corresponding to 61 is 0.6197716622088263\n",
      "r2 score corresponding to 62 is 0.6320834171680287\n",
      "r2 score corresponding to 63 is 0.6452896177277004\n",
      "r2 score corresponding to 64 is 0.6270446276919941\n",
      "r2 score corresponding to 65 is 0.6362180876684314\n",
      "r2 score corresponding to 66 is 0.6863980912164174\n",
      "r2 score corresponding to 67 is 0.6569376518994099\n",
      "r2 score corresponding to 68 is 0.6672949856020187\n",
      "r2 score corresponding to 69 is 0.5804856568178438\n",
      "r2 score corresponding to 70 is 0.6430072304716308\n",
      "r2 score corresponding to 71 is 0.6434565585107017\n",
      "r2 score corresponding to 72 is 0.6117370594733467\n",
      "r2 score corresponding to 73 is 0.6666023647390167\n",
      "r2 score corresponding to 74 is 0.6789806205601245\n",
      "r2 score corresponding to 75 is 0.6660465241415212\n",
      "r2 score corresponding to 76 is 0.6090051966914518\n",
      "r2 score corresponding to 77 is 0.640412294738693\n",
      "r2 score corresponding to 78 is 0.6436227591813188\n",
      "r2 score corresponding to 79 is 0.6354256054711611\n",
      "r2 score corresponding to 80 is 0.6030652233250364\n",
      "r2 score corresponding to 81 is 0.6270279933313186\n",
      "r2 score corresponding to 82 is 0.6797457304757529\n",
      "r2 score corresponding to 83 is 0.5487616719162811\n",
      "r2 score corresponding to 84 is 0.6548771276647412\n",
      "r2 score corresponding to 85 is 0.6521442873274442\n",
      "r2 score corresponding to 86 is 0.5992470262066355\n",
      "r2 score corresponding to 87 is 0.67412512130325\n",
      "r2 score corresponding to 88 is 0.6214182203809877\n",
      "r2 score corresponding to 89 is 0.6741832445034868\n",
      "r2 score corresponding to 90 is 0.6383087011024291\n",
      "r2 score corresponding to 91 is 0.6540051780266667\n",
      "r2 score corresponding to 92 is 0.6997650897567642\n",
      "r2 score corresponding to 93 is 0.683472899114598\n",
      "r2 score corresponding to 94 is 0.6369124716859083\n",
      "r2 score corresponding to 95 is 0.6494318769079765\n",
      "r2 score corresponding to 96 is 0.6140143513909305\n",
      "r2 score corresponding to 97 is 0.6600521442823242\n",
      "r2 score corresponding to 98 is 0.6088954145690366\n",
      "r2 score corresponding to 99 is 0.6516218805965324\n",
      "max r2 score corresponding to 92 is 0.6997650897567642\n"
     ]
    }
   ],
   "source": [
    "ada_reg=AdaBoostRegressor(base_estimator=knr,learning_rate=0.1,n_estimators=100)\n",
    "r_state=maxr2_score(ada_reg,x,y)"
   ]
  },
  {
   "cell_type": "code",
   "execution_count": 103,
   "metadata": {},
   "outputs": [],
   "source": [
    "from sklearn.ensemble import RandomForestRegressor\n",
    "\n",
    "rf=RandomForestRegressor()\n",
    "x_train,x_test,y_train,y_test=train_test_split(x,y,random_state=42,test_size=0.2)\n",
    "rf.fit(x_train,y_train)\n",
    "rf_score=rf.score(x_train,y_train)"
   ]
  },
  {
   "cell_type": "code",
   "execution_count": 104,
   "metadata": {},
   "outputs": [
    {
     "data": {
      "text/plain": [
       "0.9872948877291571"
      ]
     },
     "execution_count": 104,
     "metadata": {},
     "output_type": "execute_result"
    }
   ],
   "source": [
    "rf_score"
   ]
  },
  {
   "cell_type": "code",
   "execution_count": 106,
   "metadata": {},
   "outputs": [
    {
     "name": "stdout",
     "output_type": "stream",
     "text": [
      "MAE for testing set: 0.7993421052631579\n",
      "MSE for testing set: 25.88486842105263\n",
      "RMSE for testing set: 5.0877174077431455\n",
      "r2_score is: 0.89913532614672\n"
     ]
    }
   ],
   "source": [
    "from sklearn.metrics import mean_absolute_error,mean_squared_error\n",
    "print('MAE for testing set: {}'.format(mean_absolute_error(y_pred,y_test)))\n",
    "print('MSE for testing set: {}'.format(mean_squared_error(y_pred,y_test)))\n",
    "print('RMSE for testing set: {}'.format(np.sqrt(mean_squared_error(y_pred,y_test))))\n",
    "print(\"r2_score is:\",r2_score(y_test,y_pred))"
   ]
  },
  {
   "cell_type": "markdown",
   "metadata": {},
   "source": [
    "*RandomForestRegressor outperfomed LinearRegression, KNeigborsRegressor and AdaBoostRegressor with an r2 score of 0.899.\n"
   ]
  },
  {
   "cell_type": "code",
   "execution_count": 108,
   "metadata": {},
   "outputs": [
    {
     "data": {
      "text/plain": [
       "['avocado_rf.pkl']"
      ]
     },
     "execution_count": 108,
     "metadata": {},
     "output_type": "execute_result"
    }
   ],
   "source": [
    "#Save the best model as a pickle in a file\n",
    "from sklearn.externals import joblib\n",
    "\n",
    "joblib.dump(rf,'avocado_rf.pkl')"
   ]
  },
  {
   "cell_type": "markdown",
   "metadata": {},
   "source": [
    "# Classification "
   ]
  },
  {
   "cell_type": "markdown",
   "metadata": {},
   "source": [
    " Using classification model to predict the regions in the dataset"
   ]
  },
  {
   "cell_type": "code",
   "execution_count": 53,
   "metadata": {},
   "outputs": [
    {
     "data": {
      "text/html": [
       "<div>\n",
       "<style scoped>\n",
       "    .dataframe tbody tr th:only-of-type {\n",
       "        vertical-align: middle;\n",
       "    }\n",
       "\n",
       "    .dataframe tbody tr th {\n",
       "        vertical-align: top;\n",
       "    }\n",
       "\n",
       "    .dataframe thead th {\n",
       "        text-align: right;\n",
       "    }\n",
       "</style>\n",
       "<table border=\"1\" class=\"dataframe\">\n",
       "  <thead>\n",
       "    <tr style=\"text-align: right;\">\n",
       "      <th></th>\n",
       "      <th>AveragePrice</th>\n",
       "      <th>Total Volume</th>\n",
       "      <th>4046</th>\n",
       "      <th>4225</th>\n",
       "      <th>4770</th>\n",
       "      <th>Total Bags</th>\n",
       "      <th>Small Bags</th>\n",
       "      <th>Large Bags</th>\n",
       "      <th>XLarge Bags</th>\n",
       "      <th>type</th>\n",
       "      <th>year</th>\n",
       "      <th>region</th>\n",
       "    </tr>\n",
       "  </thead>\n",
       "  <tbody>\n",
       "    <tr>\n",
       "      <th>0</th>\n",
       "      <td>1.33</td>\n",
       "      <td>11.070344</td>\n",
       "      <td>6.944801</td>\n",
       "      <td>10.905146</td>\n",
       "      <td>3.895080</td>\n",
       "      <td>9.070833</td>\n",
       "      <td>9.060055</td>\n",
       "      <td>4.545951</td>\n",
       "      <td>0.000000</td>\n",
       "      <td>0</td>\n",
       "      <td>7.608871</td>\n",
       "      <td>0</td>\n",
       "    </tr>\n",
       "    <tr>\n",
       "      <th>1</th>\n",
       "      <td>1.35</td>\n",
       "      <td>10.912867</td>\n",
       "      <td>6.515127</td>\n",
       "      <td>10.706381</td>\n",
       "      <td>4.083115</td>\n",
       "      <td>9.159737</td>\n",
       "      <td>9.149429</td>\n",
       "      <td>4.589955</td>\n",
       "      <td>0.000000</td>\n",
       "      <td>0</td>\n",
       "      <td>7.608871</td>\n",
       "      <td>0</td>\n",
       "    </tr>\n",
       "    <tr>\n",
       "      <th>2</th>\n",
       "      <td>0.93</td>\n",
       "      <td>11.680313</td>\n",
       "      <td>6.679222</td>\n",
       "      <td>11.600485</td>\n",
       "      <td>4.879007</td>\n",
       "      <td>9.005325</td>\n",
       "      <td>8.992584</td>\n",
       "      <td>4.645736</td>\n",
       "      <td>0.000000</td>\n",
       "      <td>0</td>\n",
       "      <td>7.608871</td>\n",
       "      <td>0</td>\n",
       "    </tr>\n",
       "    <tr>\n",
       "      <th>3</th>\n",
       "      <td>1.08</td>\n",
       "      <td>11.277116</td>\n",
       "      <td>7.032624</td>\n",
       "      <td>11.184108</td>\n",
       "      <td>4.298373</td>\n",
       "      <td>8.667708</td>\n",
       "      <td>8.644425</td>\n",
       "      <td>4.903495</td>\n",
       "      <td>0.000000</td>\n",
       "      <td>0</td>\n",
       "      <td>7.608871</td>\n",
       "      <td>0</td>\n",
       "    </tr>\n",
       "    <tr>\n",
       "      <th>4</th>\n",
       "      <td>1.28</td>\n",
       "      <td>10.840377</td>\n",
       "      <td>6.848515</td>\n",
       "      <td>10.688288</td>\n",
       "      <td>4.340944</td>\n",
       "      <td>8.729874</td>\n",
       "      <td>8.697389</td>\n",
       "      <td>5.291746</td>\n",
       "      <td>0.000000</td>\n",
       "      <td>0</td>\n",
       "      <td>7.608871</td>\n",
       "      <td>0</td>\n",
       "    </tr>\n",
       "    <tr>\n",
       "      <th>...</th>\n",
       "      <td>...</td>\n",
       "      <td>...</td>\n",
       "      <td>...</td>\n",
       "      <td>...</td>\n",
       "      <td>...</td>\n",
       "      <td>...</td>\n",
       "      <td>...</td>\n",
       "      <td>...</td>\n",
       "      <td>...</td>\n",
       "      <td>...</td>\n",
       "      <td>...</td>\n",
       "      <td>...</td>\n",
       "    </tr>\n",
       "    <tr>\n",
       "      <th>1512</th>\n",
       "      <td>1.39</td>\n",
       "      <td>12.159227</td>\n",
       "      <td>10.960064</td>\n",
       "      <td>10.939651</td>\n",
       "      <td>9.771828</td>\n",
       "      <td>10.992377</td>\n",
       "      <td>10.795988</td>\n",
       "      <td>9.245288</td>\n",
       "      <td>5.485958</td>\n",
       "      <td>0</td>\n",
       "      <td>7.609367</td>\n",
       "      <td>7</td>\n",
       "    </tr>\n",
       "    <tr>\n",
       "      <th>1513</th>\n",
       "      <td>1.51</td>\n",
       "      <td>12.090868</td>\n",
       "      <td>10.676528</td>\n",
       "      <td>10.862658</td>\n",
       "      <td>9.874088</td>\n",
       "      <td>11.055667</td>\n",
       "      <td>10.909713</td>\n",
       "      <td>9.059234</td>\n",
       "      <td>0.000000</td>\n",
       "      <td>0</td>\n",
       "      <td>7.609367</td>\n",
       "      <td>7</td>\n",
       "    </tr>\n",
       "    <tr>\n",
       "      <th>1514</th>\n",
       "      <td>1.48</td>\n",
       "      <td>12.091850</td>\n",
       "      <td>10.744316</td>\n",
       "      <td>10.876052</td>\n",
       "      <td>9.725432</td>\n",
       "      <td>11.041589</td>\n",
       "      <td>10.884322</td>\n",
       "      <td>9.019078</td>\n",
       "      <td>6.716595</td>\n",
       "      <td>0</td>\n",
       "      <td>7.609367</td>\n",
       "      <td>7</td>\n",
       "    </tr>\n",
       "    <tr>\n",
       "      <th>1515</th>\n",
       "      <td>1.47</td>\n",
       "      <td>12.150203</td>\n",
       "      <td>10.898807</td>\n",
       "      <td>10.889203</td>\n",
       "      <td>9.769752</td>\n",
       "      <td>11.065587</td>\n",
       "      <td>10.926918</td>\n",
       "      <td>9.021509</td>\n",
       "      <td>0.000000</td>\n",
       "      <td>0</td>\n",
       "      <td>7.609367</td>\n",
       "      <td>7</td>\n",
       "    </tr>\n",
       "    <tr>\n",
       "      <th>1516</th>\n",
       "      <td>1.43</td>\n",
       "      <td>12.117128</td>\n",
       "      <td>10.671682</td>\n",
       "      <td>10.900333</td>\n",
       "      <td>9.715042</td>\n",
       "      <td>11.143390</td>\n",
       "      <td>10.958796</td>\n",
       "      <td>9.363006</td>\n",
       "      <td>0.000000</td>\n",
       "      <td>0</td>\n",
       "      <td>7.609367</td>\n",
       "      <td>7</td>\n",
       "    </tr>\n",
       "  </tbody>\n",
       "</table>\n",
       "<p>1517 rows × 12 columns</p>\n",
       "</div>"
      ],
      "text/plain": [
       "      AveragePrice  Total Volume       4046       4225      4770  Total Bags  \\\n",
       "0             1.33     11.070344   6.944801  10.905146  3.895080    9.070833   \n",
       "1             1.35     10.912867   6.515127  10.706381  4.083115    9.159737   \n",
       "2             0.93     11.680313   6.679222  11.600485  4.879007    9.005325   \n",
       "3             1.08     11.277116   7.032624  11.184108  4.298373    8.667708   \n",
       "4             1.28     10.840377   6.848515  10.688288  4.340944    8.729874   \n",
       "...            ...           ...        ...        ...       ...         ...   \n",
       "1512          1.39     12.159227  10.960064  10.939651  9.771828   10.992377   \n",
       "1513          1.51     12.090868  10.676528  10.862658  9.874088   11.055667   \n",
       "1514          1.48     12.091850  10.744316  10.876052  9.725432   11.041589   \n",
       "1515          1.47     12.150203  10.898807  10.889203  9.769752   11.065587   \n",
       "1516          1.43     12.117128  10.671682  10.900333  9.715042   11.143390   \n",
       "\n",
       "      Small Bags  Large Bags  XLarge Bags  type      year  region  \n",
       "0       9.060055    4.545951     0.000000     0  7.608871       0  \n",
       "1       9.149429    4.589955     0.000000     0  7.608871       0  \n",
       "2       8.992584    4.645736     0.000000     0  7.608871       0  \n",
       "3       8.644425    4.903495     0.000000     0  7.608871       0  \n",
       "4       8.697389    5.291746     0.000000     0  7.608871       0  \n",
       "...          ...         ...          ...   ...       ...     ...  \n",
       "1512   10.795988    9.245288     5.485958     0  7.609367       7  \n",
       "1513   10.909713    9.059234     0.000000     0  7.609367       7  \n",
       "1514   10.884322    9.019078     6.716595     0  7.609367       7  \n",
       "1515   10.926918    9.021509     0.000000     0  7.609367       7  \n",
       "1516   10.958796    9.363006     0.000000     0  7.609367       7  \n",
       "\n",
       "[1517 rows x 12 columns]"
      ]
     },
     "execution_count": 53,
     "metadata": {},
     "output_type": "execute_result"
    }
   ],
   "source": [
    "df"
   ]
  },
  {
   "cell_type": "code",
   "execution_count": 54,
   "metadata": {},
   "outputs": [],
   "source": [
    "x=df.drop(\"region\",axis=1)\n",
    "y=pd.DataFrame(df[\"region\"])"
   ]
  },
  {
   "cell_type": "code",
   "execution_count": 55,
   "metadata": {},
   "outputs": [
    {
     "data": {
      "text/html": [
       "<div>\n",
       "<style scoped>\n",
       "    .dataframe tbody tr th:only-of-type {\n",
       "        vertical-align: middle;\n",
       "    }\n",
       "\n",
       "    .dataframe tbody tr th {\n",
       "        vertical-align: top;\n",
       "    }\n",
       "\n",
       "    .dataframe thead th {\n",
       "        text-align: right;\n",
       "    }\n",
       "</style>\n",
       "<table border=\"1\" class=\"dataframe\">\n",
       "  <thead>\n",
       "    <tr style=\"text-align: right;\">\n",
       "      <th></th>\n",
       "      <th>region</th>\n",
       "    </tr>\n",
       "  </thead>\n",
       "  <tbody>\n",
       "    <tr>\n",
       "      <th>0</th>\n",
       "      <td>0</td>\n",
       "    </tr>\n",
       "    <tr>\n",
       "      <th>1</th>\n",
       "      <td>0</td>\n",
       "    </tr>\n",
       "    <tr>\n",
       "      <th>2</th>\n",
       "      <td>0</td>\n",
       "    </tr>\n",
       "    <tr>\n",
       "      <th>3</th>\n",
       "      <td>0</td>\n",
       "    </tr>\n",
       "    <tr>\n",
       "      <th>4</th>\n",
       "      <td>0</td>\n",
       "    </tr>\n",
       "    <tr>\n",
       "      <th>...</th>\n",
       "      <td>...</td>\n",
       "    </tr>\n",
       "    <tr>\n",
       "      <th>1512</th>\n",
       "      <td>7</td>\n",
       "    </tr>\n",
       "    <tr>\n",
       "      <th>1513</th>\n",
       "      <td>7</td>\n",
       "    </tr>\n",
       "    <tr>\n",
       "      <th>1514</th>\n",
       "      <td>7</td>\n",
       "    </tr>\n",
       "    <tr>\n",
       "      <th>1515</th>\n",
       "      <td>7</td>\n",
       "    </tr>\n",
       "    <tr>\n",
       "      <th>1516</th>\n",
       "      <td>7</td>\n",
       "    </tr>\n",
       "  </tbody>\n",
       "</table>\n",
       "<p>1517 rows × 1 columns</p>\n",
       "</div>"
      ],
      "text/plain": [
       "      region\n",
       "0          0\n",
       "1          0\n",
       "2          0\n",
       "3          0\n",
       "4          0\n",
       "...      ...\n",
       "1512       7\n",
       "1513       7\n",
       "1514       7\n",
       "1515       7\n",
       "1516       7\n",
       "\n",
       "[1517 rows x 1 columns]"
      ]
     },
     "execution_count": 55,
     "metadata": {},
     "output_type": "execute_result"
    }
   ],
   "source": [
    "y"
   ]
  },
  {
   "cell_type": "code",
   "execution_count": 56,
   "metadata": {},
   "outputs": [],
   "source": [
    "#scaling the input variables\n",
    "from sklearn.preprocessing import StandardScaler\n",
    "\n",
    "sc=StandardScaler()\n",
    "x=sc.fit_transform(x)\n",
    "x=pd.DataFrame(data=x)"
   ]
  },
  {
   "cell_type": "code",
   "execution_count": 57,
   "metadata": {},
   "outputs": [],
   "source": [
    "from sklearn.model_selection import train_test_split\n",
    "x_train,x_test,y_train,y_test=train_test_split(x,y,test_size=.22,random_state=45)"
   ]
  },
  {
   "cell_type": "code",
   "execution_count": 58,
   "metadata": {},
   "outputs": [],
   "source": [
    "from sklearn.neighbors import KNeighborsClassifier\n",
    "from sklearn.svm import SVC\n",
    "from sklearn.tree import DecisionTreeClassifier"
   ]
  },
  {
   "cell_type": "code",
   "execution_count": 59,
   "metadata": {},
   "outputs": [],
   "source": [
    "KNN=KNeighborsClassifier(n_neighbors=6)\n",
    "SV=SVC()\n",
    "DT=DecisionTreeClassifier()"
   ]
  },
  {
   "cell_type": "code",
   "execution_count": 60,
   "metadata": {},
   "outputs": [],
   "source": [
    "models= []\n",
    "models.append(('KNeighborsClassifier' ,KNN))\n",
    "models.append((\"SVC\",SV))\n",
    "models.append((\"DecisionTreeClassifier\",DT))"
   ]
  },
  {
   "cell_type": "code",
   "execution_count": 61,
   "metadata": {},
   "outputs": [],
   "source": [
    "from sklearn.metrics import classification_report,confusion_matrix,accuracy_score\n",
    "from sklearn.model_selection import cross_val_score\n",
    "import warnings\n",
    "warnings.filterwarnings('ignore')"
   ]
  },
  {
   "cell_type": "code",
   "execution_count": 62,
   "metadata": {},
   "outputs": [
    {
     "name": "stdout",
     "output_type": "stream",
     "text": [
      "**************************************** KNeighborsClassifier ******************************************\n",
      "\n",
      "\n",
      "KNeighborsClassifier(algorithm='auto', leaf_size=30, metric='minkowski',\n",
      "                     metric_params=None, n_jobs=None, n_neighbors=6, p=2,\n",
      "                     weights='uniform')\n",
      "\n",
      "\n",
      "Accuracy_score = 0.9431137724550899\n",
      "\n",
      "\n",
      "Cross_Val_Score = 0.9242026838619729\n",
      "\n",
      "\n",
      "classification_report\n",
      "               precision    recall  f1-score   support\n",
      "\n",
      "           0       1.00      0.95      0.97        20\n",
      "           1       0.67      0.86      0.75         7\n",
      "           2       1.00      1.00      1.00        15\n",
      "           3       1.00      1.00      1.00        16\n",
      "           4       1.00      1.00      1.00        11\n",
      "           5       1.00      1.00      1.00         9\n",
      "           6       1.00      1.00      1.00        13\n",
      "           7       0.77      1.00      0.87        10\n",
      "           8       1.00      1.00      1.00         5\n",
      "           9       1.00      1.00      1.00         9\n",
      "          10       0.50      0.67      0.57         3\n",
      "          11       1.00      1.00      1.00         4\n",
      "          12       1.00      1.00      1.00        11\n",
      "          13       1.00      1.00      1.00         6\n",
      "          15       1.00      1.00      1.00         1\n",
      "          16       1.00      1.00      1.00         3\n",
      "          17       0.79      0.92      0.85        12\n",
      "          18       1.00      1.00      1.00         4\n",
      "          19       1.00      0.88      0.93         8\n",
      "          20       0.67      1.00      0.80         2\n",
      "          21       1.00      1.00      1.00         1\n",
      "          22       1.00      1.00      1.00         5\n",
      "          23       1.00      1.00      1.00         3\n",
      "          24       1.00      1.00      1.00         2\n",
      "          25       1.00      1.00      1.00         6\n",
      "          26       1.00      1.00      1.00        13\n",
      "          27       1.00      1.00      1.00         1\n",
      "          28       1.00      1.00      1.00         5\n",
      "          29       0.50      0.75      0.60         4\n",
      "          30       1.00      1.00      1.00         1\n",
      "          31       1.00      0.85      0.92        13\n",
      "          32       1.00      1.00      1.00         5\n",
      "          33       1.00      1.00      1.00         6\n",
      "          34       1.00      1.00      1.00         9\n",
      "          35       1.00      0.25      0.40         4\n",
      "          36       1.00      0.80      0.89         5\n",
      "          37       1.00      1.00      1.00         6\n",
      "          38       0.75      0.75      0.75         8\n",
      "          39       1.00      0.67      0.80         3\n",
      "          40       1.00      1.00      1.00         2\n",
      "          41       1.00      0.67      0.80         3\n",
      "          42       1.00      1.00      1.00         8\n",
      "          43       1.00      1.00      1.00         3\n",
      "          44       1.00      1.00      1.00        15\n",
      "          45       1.00      1.00      1.00         3\n",
      "          46       0.83      1.00      0.91         5\n",
      "          47       1.00      0.86      0.92        14\n",
      "          48       1.00      1.00      1.00         2\n",
      "          49       1.00      1.00      1.00         5\n",
      "          50       0.80      0.80      0.80         5\n",
      "\n",
      "    accuracy                           0.94       334\n",
      "   macro avg       0.95      0.93      0.93       334\n",
      "weighted avg       0.95      0.94      0.94       334\n",
      "\n",
      "\n",
      "\n",
      "[[19  0  0 ...  0  0  0]\n",
      " [ 0  6  0 ...  0  0  0]\n",
      " [ 0  0 15 ...  0  0  0]\n",
      " ...\n",
      " [ 0  0  0 ...  2  0  0]\n",
      " [ 0  0  0 ...  0  5  0]\n",
      " [ 0  0  0 ...  0  0  4]]\n",
      "\n",
      "\n",
      "AxesSubplot(0.125,0.808774;0.62x0.0712264)\n",
      "\n",
      "\n",
      "\n",
      "**************************************** SVC ******************************************\n",
      "\n",
      "\n",
      "SVC(C=1.0, break_ties=False, cache_size=200, class_weight=None, coef0=0.0,\n",
      "    decision_function_shape='ovr', degree=3, gamma='scale', kernel='rbf',\n",
      "    max_iter=-1, probability=False, random_state=None, shrinking=True,\n",
      "    tol=0.001, verbose=False)\n",
      "\n",
      "\n",
      "Accuracy_score = 0.9311377245508982\n",
      "\n",
      "\n",
      "Cross_Val_Score = 0.91301411641687\n",
      "\n",
      "\n",
      "classification_report\n",
      "               precision    recall  f1-score   support\n",
      "\n",
      "           0       1.00      1.00      1.00        20\n",
      "           1       0.64      1.00      0.78         7\n",
      "           2       1.00      1.00      1.00        15\n",
      "           3       1.00      1.00      1.00        16\n",
      "           4       1.00      1.00      1.00        11\n",
      "           5       1.00      1.00      1.00         9\n",
      "           6       1.00      1.00      1.00        13\n",
      "           7       0.71      1.00      0.83        10\n",
      "           8       1.00      1.00      1.00         5\n",
      "           9       0.90      1.00      0.95         9\n",
      "          10       0.67      0.67      0.67         3\n",
      "          11       1.00      1.00      1.00         4\n",
      "          12       1.00      1.00      1.00        11\n",
      "          13       1.00      1.00      1.00         6\n",
      "          15       1.00      1.00      1.00         1\n",
      "          16       1.00      1.00      1.00         3\n",
      "          17       0.85      0.92      0.88        12\n",
      "          18       1.00      1.00      1.00         4\n",
      "          19       1.00      0.88      0.93         8\n",
      "          20       0.00      0.00      0.00         2\n",
      "          21       0.00      0.00      0.00         1\n",
      "          22       1.00      1.00      1.00         5\n",
      "          23       1.00      1.00      1.00         3\n",
      "          24       1.00      1.00      1.00         2\n",
      "          25       1.00      0.83      0.91         6\n",
      "          26       1.00      1.00      1.00        13\n",
      "          27       1.00      1.00      1.00         1\n",
      "          28       1.00      1.00      1.00         5\n",
      "          29       0.60      0.75      0.67         4\n",
      "          30       1.00      1.00      1.00         1\n",
      "          31       1.00      0.92      0.96        13\n",
      "          32       1.00      1.00      1.00         5\n",
      "          33       1.00      1.00      1.00         6\n",
      "          34       0.75      1.00      0.86         9\n",
      "          35       0.00      0.00      0.00         4\n",
      "          36       0.71      1.00      0.83         5\n",
      "          37       1.00      1.00      1.00         6\n",
      "          38       0.78      0.88      0.82         8\n",
      "          39       1.00      0.67      0.80         3\n",
      "          40       0.00      0.00      0.00         2\n",
      "          41       1.00      0.67      0.80         3\n",
      "          42       0.89      1.00      0.94         8\n",
      "          43       1.00      1.00      1.00         3\n",
      "          44       1.00      1.00      1.00        15\n",
      "          45       1.00      1.00      1.00         3\n",
      "          46       1.00      1.00      1.00         5\n",
      "          47       1.00      0.71      0.83        14\n",
      "          48       1.00      1.00      1.00         2\n",
      "          49       1.00      1.00      1.00         5\n",
      "          50       0.80      0.80      0.80         5\n",
      "\n",
      "    accuracy                           0.93       334\n",
      "   macro avg       0.87      0.87      0.87       334\n",
      "weighted avg       0.92      0.93      0.92       334\n",
      "\n",
      "\n",
      "\n",
      "[[20  0  0 ...  0  0  0]\n",
      " [ 0  7  0 ...  0  0  0]\n",
      " [ 0  0 15 ...  0  0  0]\n",
      " ...\n",
      " [ 0  0  0 ...  2  0  0]\n",
      " [ 0  0  0 ...  0  5  0]\n",
      " [ 0  0  0 ...  0  0  4]]\n",
      "\n",
      "\n",
      "AxesSubplot(0.125,0.808774;0.62x0.0712264)\n",
      "\n",
      "\n",
      "\n",
      "**************************************** DecisionTreeClassifier ******************************************\n",
      "\n",
      "\n",
      "DecisionTreeClassifier(ccp_alpha=0.0, class_weight=None, criterion='gini',\n",
      "                       max_depth=None, max_features=None, max_leaf_nodes=None,\n",
      "                       min_impurity_decrease=0.0, min_impurity_split=None,\n",
      "                       min_samples_leaf=1, min_samples_split=2,\n",
      "                       min_weight_fraction_leaf=0.0, presort='deprecated',\n",
      "                       random_state=None, splitter='best')\n",
      "\n",
      "\n",
      "Accuracy_score = 0.8832335329341318\n",
      "\n",
      "\n",
      "Cross_Val_Score = 0.8536293133495991\n",
      "\n",
      "\n",
      "classification_report\n",
      "               precision    recall  f1-score   support\n",
      "\n",
      "           0       0.90      0.95      0.93        20\n",
      "           1       0.64      1.00      0.78         7\n",
      "           2       0.92      0.80      0.86        15\n",
      "           3       0.89      1.00      0.94        16\n",
      "           4       1.00      0.82      0.90        11\n",
      "           5       1.00      0.89      0.94         9\n",
      "           6       1.00      1.00      1.00        13\n",
      "           7       1.00      0.60      0.75        10\n",
      "           8       1.00      1.00      1.00         5\n",
      "           9       1.00      0.67      0.80         9\n",
      "          10       0.50      0.67      0.57         3\n",
      "          11       0.75      0.75      0.75         4\n",
      "          12       1.00      0.91      0.95        11\n",
      "          13       1.00      1.00      1.00         6\n",
      "          15       0.50      1.00      0.67         1\n",
      "          16       1.00      1.00      1.00         3\n",
      "          17       1.00      0.83      0.91        12\n",
      "          18       1.00      0.75      0.86         4\n",
      "          19       0.64      0.88      0.74         8\n",
      "          20       1.00      1.00      1.00         2\n",
      "          21       1.00      1.00      1.00         1\n",
      "          22       1.00      1.00      1.00         5\n",
      "          23       1.00      1.00      1.00         3\n",
      "          24       1.00      1.00      1.00         2\n",
      "          25       1.00      0.67      0.80         6\n",
      "          26       1.00      1.00      1.00        13\n",
      "          27       1.00      1.00      1.00         1\n",
      "          28       0.83      1.00      0.91         5\n",
      "          29       0.75      0.75      0.75         4\n",
      "          30       1.00      1.00      1.00         1\n",
      "          31       0.86      0.92      0.89        13\n",
      "          32       1.00      0.80      0.89         5\n",
      "          33       1.00      0.83      0.91         6\n",
      "          34       0.82      1.00      0.90         9\n",
      "          35       0.50      1.00      0.67         4\n",
      "          36       0.80      0.80      0.80         5\n",
      "          37       1.00      0.83      0.91         6\n",
      "          38       0.67      1.00      0.80         8\n",
      "          39       0.75      1.00      0.86         3\n",
      "          40       1.00      1.00      1.00         2\n",
      "          41       0.50      0.33      0.40         3\n",
      "          42       0.88      0.88      0.88         8\n",
      "          43       1.00      0.67      0.80         3\n",
      "          44       1.00      0.93      0.97        15\n",
      "          45       1.00      1.00      1.00         3\n",
      "          46       0.71      1.00      0.83         5\n",
      "          47       1.00      0.79      0.88        14\n",
      "          48       1.00      1.00      1.00         2\n",
      "          49       0.83      1.00      0.91         5\n",
      "          50       0.75      0.60      0.67         5\n",
      "\n",
      "    accuracy                           0.88       334\n",
      "   macro avg       0.89      0.89      0.87       334\n",
      "weighted avg       0.91      0.88      0.88       334\n",
      "\n",
      "\n",
      "\n",
      "[[19  0  0 ...  0  0  0]\n",
      " [ 0  7  0 ...  0  0  0]\n",
      " [ 0  0 12 ...  0  0  0]\n",
      " ...\n",
      " [ 0  0  0 ...  2  0  0]\n",
      " [ 0  0  0 ...  0  5  0]\n",
      " [ 0  0  0 ...  0  0  3]]\n",
      "\n",
      "\n"
     ]
    },
    {
     "name": "stdout",
     "output_type": "stream",
     "text": [
      "AxesSubplot(0.125,0.808774;0.62x0.0712264)\n",
      "\n",
      "\n",
      "\n"
     ]
    },
    {
     "data": {
      "image/png": "[encoded data removed]",
      "text/plain": [
       "<Figure size 720x2880 with 2 Axes>"
      ]
     },
     "metadata": {
      "needs_background": "light"
     },
     "output_type": "display_data"
    },
    {
     "data": {
      "image/png": "[encoded data removed]",
      "text/plain": [
       "<Figure size 720x2880 with 2 Axes>"
      ]
     },
     "metadata": {
      "needs_background": "light"
     },
     "output_type": "display_data"
    },
    {
     "data": {
      "image/png": "[encoded data removed]",
      "text/plain": [
       "<Figure size 720x2880 with 2 Axes>"
      ]
     },
     "metadata": {
      "needs_background": "light"
     },
     "output_type": "display_data"
    }
   ],
   "source": [
    "Model = []\n",
    "score = []\n",
    "cvs =[]\n",
    "\n",
    "for name,model in models:\n",
    "    print('****************************************',name,'******************************************')\n",
    "    print('\\n')\n",
    "    Model.append(name)\n",
    "    model.fit(x_train,y_train)\n",
    "    print(model)\n",
    "    pre=model.predict(x_test)\n",
    "    print('\\n')\n",
    "    AS=accuracy_score(y_test,pre)\n",
    "    print(\"Accuracy_score =\",AS)\n",
    "    score.append(AS*100)\n",
    "    print('\\n')\n",
    "    sc = cross_val_score(model,x,y,cv=10,scoring=\"accuracy\").mean()\n",
    "    print(\"Cross_Val_Score =\",sc)\n",
    "    cvs.append(sc*100)\n",
    "    print('\\n')\n",
    "    print(\"classification_report\\n\",classification_report(y_test,pre))\n",
    "    print(\"\\n\")\n",
    "    cm=confusion_matrix(y_test,pre)\n",
    "    print(cm)\n",
    "    print(\"\\n\")\n",
    "    plt.figure(figsize=(10,40))\n",
    "    plt.subplot(911)\n",
    "    plt.title(name)\n",
    "    print(sns.heatmap(cm,annot=True))\n",
    "    print('\\n\\n')"
   ]
  },
  {
   "cell_type": "code",
   "execution_count": 63,
   "metadata": {},
   "outputs": [
    {
     "data": {
      "text/html": [
       "<div>\n",
       "<style scoped>\n",
       "    .dataframe tbody tr th:only-of-type {\n",
       "        vertical-align: middle;\n",
       "    }\n",
       "\n",
       "    .dataframe tbody tr th {\n",
       "        vertical-align: top;\n",
       "    }\n",
       "\n",
       "    .dataframe thead th {\n",
       "        text-align: right;\n",
       "    }\n",
       "</style>\n",
       "<table border=\"1\" class=\"dataframe\">\n",
       "  <thead>\n",
       "    <tr style=\"text-align: right;\">\n",
       "      <th></th>\n",
       "      <th>Model</th>\n",
       "      <th>Accuracy_score</th>\n",
       "      <th>Cross_val_score</th>\n",
       "    </tr>\n",
       "  </thead>\n",
       "  <tbody>\n",
       "    <tr>\n",
       "      <th>0</th>\n",
       "      <td>KNeighborsClassifier</td>\n",
       "      <td>94.311377</td>\n",
       "      <td>92.420268</td>\n",
       "    </tr>\n",
       "    <tr>\n",
       "      <th>1</th>\n",
       "      <td>SVC</td>\n",
       "      <td>93.113772</td>\n",
       "      <td>91.301412</td>\n",
       "    </tr>\n",
       "    <tr>\n",
       "      <th>2</th>\n",
       "      <td>DecisionTreeClassifier</td>\n",
       "      <td>88.323353</td>\n",
       "      <td>85.362931</td>\n",
       "    </tr>\n",
       "  </tbody>\n",
       "</table>\n",
       "</div>"
      ],
      "text/plain": [
       "                    Model  Accuracy_score  Cross_val_score\n",
       "0    KNeighborsClassifier       94.311377        92.420268\n",
       "1                     SVC       93.113772        91.301412\n",
       "2  DecisionTreeClassifier       88.323353        85.362931"
      ]
     },
     "execution_count": 63,
     "metadata": {},
     "output_type": "execute_result"
    }
   ],
   "source": [
    "result = pd.DataFrame({'Model':Model,'Accuracy_score':score,'Cross_val_score':cvs})\n",
    "result"
   ]
  },
  {
   "cell_type": "code",
   "execution_count": 109,
   "metadata": {},
   "outputs": [
    {
     "data": {
      "text/plain": [
       "<matplotlib.axes._subplots.AxesSubplot at 0x288d6c33ec8>"
      ]
     },
     "execution_count": 109,
     "metadata": {},
     "output_type": "execute_result"
    },
    {
     "data": {
      "image/png": "[encoded data removed]",
      "text/plain": [
       "<Figure size 432x288 with 1 Axes>"
      ]
     },
     "metadata": {
      "needs_background": "light"
     },
     "output_type": "display_data"
    }
   ],
   "source": [
    "sns.barplot(x=\"Model\",y=\"Accuracy_score\",data=result)"
   ]
  },
  {
   "cell_type": "code",
   "execution_count": null,
   "metadata": {},
   "outputs": [],
   "source": []
  },
  {
   "cell_type": "code",
   "execution_count": 64,
   "metadata": {},
   "outputs": [
    {
     "name": "stdout",
     "output_type": "stream",
     "text": [
      "0.9354068959527531\n",
      "rbf\n",
      "{'C': 10, 'kernel': 'rbf'}\n"
     ]
    }
   ],
   "source": [
    "# Using GridSearchCV to find out the best parameters of the model\n",
    "from sklearn.model_selection import GridSearchCV\n",
    "parameters = {'kernel':('linear','rbf'),'C':[1,10]}\n",
    "svc=SVC()\n",
    "clf = GridSearchCV(svc,parameters)\n",
    "clf.fit(x,y)\n",
    "print(clf.best_score_)\n",
    "print(clf.best_estimator_.kernel)\n",
    "print(clf.best_params_)"
   ]
  },
  {
   "cell_type": "code",
   "execution_count": 65,
   "metadata": {},
   "outputs": [],
   "source": [
    "svc=SVC(kernel=\"rbf\",C=10)\n",
    "svc.fit(x_train,y_train)\n",
    "pre=svc.predict(x_test)\n",
    "AS=accuracy_score(y_test,pre)"
   ]
  },
  {
   "cell_type": "code",
   "execution_count": 66,
   "metadata": {},
   "outputs": [
    {
     "name": "stdout",
     "output_type": "stream",
     "text": [
      "96.40718562874252\n"
     ]
    }
   ],
   "source": [
    "print(AS*100)"
   ]
  },
  {
   "cell_type": "code",
   "execution_count": 94,
   "metadata": {},
   "outputs": [
    {
     "name": "stdout",
     "output_type": "stream",
     "text": [
      "{'criterion': 'gini'}\n",
      "0.8174179260031267\n"
     ]
    }
   ],
   "source": [
    "dtc = DecisionTreeClassifier()\n",
    "\n",
    "grid_param = {'criterion':['gini','entropy']}\n",
    "\n",
    "gd_sr =  GridSearchCV(estimator=dtc,param_grid=grid_param,scoring='accuracy',cv=5)\n",
    "\n",
    "gd_sr.fit(x,y)\n",
    "\n",
    "print(gd_sr.best_params_)\n",
    "print(gd_sr.best_score_)"
   ]
  },
  {
   "cell_type": "code",
   "execution_count": 95,
   "metadata": {},
   "outputs": [],
   "source": [
    "dtc=DecisionTreeClassifier(criterion=\"gini\")\n",
    "dtc.fit(x_train,y_train)\n",
    "pre=dtc.predict(x_test)\n",
    "AS=accuracy_score(y_test,pre)"
   ]
  },
  {
   "cell_type": "code",
   "execution_count": 96,
   "metadata": {},
   "outputs": [
    {
     "name": "stdout",
     "output_type": "stream",
     "text": [
      "86.82634730538922\n"
     ]
    }
   ],
   "source": [
    "print(AS*100)"
   ]
  },
  {
   "cell_type": "code",
   "execution_count": 70,
   "metadata": {},
   "outputs": [],
   "source": [
    "# to check whether our result gets boosted or not\n",
    "from sklearn.ensemble import RandomForestClassifier"
   ]
  },
  {
   "cell_type": "code",
   "execution_count": 71,
   "metadata": {},
   "outputs": [
    {
     "data": {
      "text/plain": [
       "RandomForestClassifier(bootstrap=True, ccp_alpha=0.0, class_weight=None,\n",
       "                       criterion='gini', max_depth=None, max_features='auto',\n",
       "                       max_leaf_nodes=None, max_samples=None,\n",
       "                       min_impurity_decrease=0.0, min_impurity_split=None,\n",
       "                       min_samples_leaf=1, min_samples_split=2,\n",
       "                       min_weight_fraction_leaf=0.0, n_estimators=200,\n",
       "                       n_jobs=None, oob_score=False, random_state=45, verbose=0,\n",
       "                       warm_start=False)"
      ]
     },
     "execution_count": 71,
     "metadata": {},
     "output_type": "execute_result"
    }
   ],
   "source": [
    "rf=RandomForestClassifier(n_estimators=200,random_state=45)\n",
    "rf.fit(x_train,y_train)"
   ]
  },
  {
   "cell_type": "code",
   "execution_count": 72,
   "metadata": {},
   "outputs": [
    {
     "name": "stdout",
     "output_type": "stream",
     "text": [
      "100.0\n"
     ]
    }
   ],
   "source": [
    "rfscore=rf.score(x_train,y_train)\n",
    "print(rfscore*100)"
   ]
  },
  {
   "cell_type": "markdown",
   "metadata": {},
   "source": [
    "*RandomForestClassifier outperfomed  KNeigborsClassifier,DecisionTreeClassifier,SupportVectorClassifier with an accuracy of 100\n"
   ]
  },
  {
   "cell_type": "code",
   "execution_count": 73,
   "metadata": {},
   "outputs": [],
   "source": [
    "from sklearn.externals import joblib"
   ]
  },
  {
   "cell_type": "code",
   "execution_count": 74,
   "metadata": {},
   "outputs": [
    {
     "data": {
      "text/plain": [
       "['Model_avocado_Data.csv']"
      ]
     },
     "execution_count": 74,
     "metadata": {},
     "output_type": "execute_result"
    }
   ],
   "source": [
    "joblib.dump(rf,\"Model_avocado_Data.csv\")"
   ]
  },
  {
   "cell_type": "code",
   "execution_count": 75,
   "metadata": {},
   "outputs": [],
   "source": [
    "model=joblib.load(\"Model_avocado_Data.csv\")"
   ]
  },
  {
   "cell_type": "code",
   "execution_count": 76,
   "metadata": {},
   "outputs": [
    {
     "data": {
      "text/plain": [
       "array([42, 13, 34, 50, 19, 12, 15,  1, 31, 31,  2,  0,  7, 34,  2,  1, 26,\n",
       "        4, 38,  9,  5,  9, 31,  6, 11, 12, 17, 22, 20,  1, 44, 12, 37,  3,\n",
       "       43,  0,  0, 42, 46,  3, 33, 44,  6, 47,  4, 19,  0,  0,  1, 35, 12,\n",
       "        8, 24, 22, 26,  0, 28, 26, 44,  0, 28, 39,  5, 47, 48,  3, 19, 26,\n",
       "       17, 34, 38, 47,  2,  4,  0, 34, 38, 46, 26, 18, 47, 50, 26, 44, 34,\n",
       "       44, 44, 42,  3,  0, 46, 22, 24,  3,  2,  7, 46, 44, 28, 42, 47, 16,\n",
       "        6,  3, 29,  6, 37, 46, 47,  2, 17, 37, 10, 26, 12, 33, 12, 12, 26,\n",
       "        9, 31, 36, 36,  7, 26, 49,  2,  7, 32,  6, 31, 33,  8, 17, 17, 30,\n",
       "       38, 36,  1, 31, 36, 31, 35,  6, 37, 12,  0,  5, 21, 31, 44, 32,  7,\n",
       "       44,  6, 27,  5, 12,  0,  9,  3,  2,  9,  4, 50,  9, 11,  4,  3, 40,\n",
       "        0, 33, 33, 42, 49, 25,  6, 19, 42, 49, 17, 26,  7, 25, 44, 43, 37,\n",
       "       11,  9,  3,  1,  0,  4,  0,  2, 34,  4, 47,  9,  3, 25, 28, 45, 17,\n",
       "       19, 31, 32,  2, 28, 12, 40, 17,  6, 17,  7, 13, 38, 19, 37,  1,  2,\n",
       "       44,  6, 23, 29, 31,  2,  6,  3, 41,  6,  0,  0,  0,  1,  7, 20, 45,\n",
       "       25,  5, 32, 44, 12,  4,  5, 25, 22, 42, 47, 44, 45,  0, 39,  3, 31,\n",
       "       34, 41, 48,  3, 18, 47,  8,  7, 16,  0, 31,  3,  9,  4,  3, 17, 44,\n",
       "        1,  2, 18, 49, 18,  4, 25,  7,  2, 50, 36, 31, 29,  5, 38, 17, 32,\n",
       "       34, 16,  2, 26,  0, 43, 17, 26, 16, 38, 13, 13,  1, 44,  7,  5, 22,\n",
       "       35, 19, 38, 17,  5, 49, 19, 38, 10,  3, 47,  8, 11,  2, 23, 26,  8,\n",
       "       39, 13, 47, 33, 13, 42,  2, 47, 23,  6, 38])"
      ]
     },
     "execution_count": 76,
     "metadata": {},
     "output_type": "execute_result"
    }
   ],
   "source": [
    "model.predict(x_test)"
   ]
  },
  {
   "cell_type": "code",
   "execution_count": 77,
   "metadata": {},
   "outputs": [
    {
     "name": "stdout",
     "output_type": "stream",
     "text": [
      "      region\n",
      "1045      42\n",
      "394       13\n",
      "856       34\n",
      "1251      50\n",
      "517       19\n",
      "...      ...\n",
      "111        2\n",
      "1163      47\n",
      "595       23\n",
      "193        6\n",
      "960       38\n",
      "\n",
      "[334 rows x 1 columns]\n"
     ]
    }
   ],
   "source": [
    "print(y_test)"
   ]
  },
  {
   "cell_type": "code",
   "execution_count": null,
   "metadata": {},
   "outputs": [],
   "source": []
  }
 ],
 "metadata": {
  "kernelspec": {
   "display_name": "Python 3",
   "language": "python",
   "name": "python3"
  },
  "language_info": {
   "codemirror_mode": {
    "name": "ipython",
    "version": 3
   },
   "file_extension": ".py",
   "mimetype": "text/x-python",
   "name": "python",
   "nbconvert_exporter": "python",
   "pygments_lexer": "ipython3",
   "version": "3.7.6"
  }
 },
 "nbformat": 4,
 "nbformat_minor": 4
}
